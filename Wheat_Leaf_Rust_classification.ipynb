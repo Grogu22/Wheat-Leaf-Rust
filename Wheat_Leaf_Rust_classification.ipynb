{
  "cells": [
    {
      "cell_type": "code",
      "id": "wz7SlO2Gjrr6GfrKF5LAjWjo",
      "metadata": {
        "tags": [],
        "id": "wz7SlO2Gjrr6GfrKF5LAjWjo",
        "colab": {
          "base_uri": "https://localhost:8080/"
        },
        "outputId": "7a5bba4c-24bd-4cfb-8b68-ec0375b11047"
      },
      "source": [
        "!pip install ultralytics"
      ],
      "execution_count": 1,
      "outputs": [
        {
          "output_type": "stream",
          "name": "stdout",
          "text": [
            "Collecting ultralytics\n",
            "  Downloading ultralytics-8.3.154-py3-none-any.whl.metadata (37 kB)\n",
            "Requirement already satisfied: numpy>=1.23.0 in /usr/local/lib/python3.10/dist-packages (from ultralytics) (1.26.4)\n",
            "Requirement already satisfied: matplotlib>=3.3.0 in /usr/local/lib/python3.10/dist-packages (from ultralytics) (3.10.0)\n",
            "Requirement already satisfied: opencv-python>=4.6.0 in /usr/local/lib/python3.10/dist-packages (from ultralytics) (4.10.0.84)\n",
            "Requirement already satisfied: pillow>=7.1.2 in /usr/local/lib/python3.10/dist-packages (from ultralytics) (11.1.0)\n",
            "Requirement already satisfied: pyyaml>=5.3.1 in /usr/local/lib/python3.10/dist-packages (from ultralytics) (6.0.2)\n",
            "Requirement already satisfied: requests>=2.23.0 in /usr/local/lib/python3.10/dist-packages (from ultralytics) (2.32.3)\n",
            "Requirement already satisfied: scipy>=1.4.1 in /usr/local/lib/python3.10/dist-packages (from ultralytics) (1.13.1)\n",
            "Requirement already satisfied: torch>=1.8.0 in /usr/local/lib/python3.10/dist-packages (from ultralytics) (2.5.1+cu121)\n",
            "Requirement already satisfied: torchvision>=0.9.0 in /usr/local/lib/python3.10/dist-packages (from ultralytics) (0.20.1+cu121)\n",
            "Requirement already satisfied: tqdm>=4.64.0 in /usr/local/lib/python3.10/dist-packages (from ultralytics) (4.67.1)\n",
            "Requirement already satisfied: psutil in /usr/local/lib/python3.10/dist-packages (from ultralytics) (5.9.5)\n",
            "Requirement already satisfied: py-cpuinfo in /usr/local/lib/python3.10/dist-packages (from ultralytics) (9.0.0)\n",
            "Requirement already satisfied: pandas>=1.1.4 in /usr/local/lib/python3.10/dist-packages (from ultralytics) (2.2.2)\n",
            "Collecting ultralytics-thop>=2.0.0 (from ultralytics)\n",
            "  Downloading ultralytics_thop-2.0.14-py3-none-any.whl.metadata (9.4 kB)\n",
            "Requirement already satisfied: contourpy>=1.0.1 in /usr/local/lib/python3.10/dist-packages (from matplotlib>=3.3.0->ultralytics) (1.3.1)\n",
            "Requirement already satisfied: cycler>=0.10 in /usr/local/lib/python3.10/dist-packages (from matplotlib>=3.3.0->ultralytics) (0.12.1)\n",
            "Requirement already satisfied: fonttools>=4.22.0 in /usr/local/lib/python3.10/dist-packages (from matplotlib>=3.3.0->ultralytics) (4.55.3)\n",
            "Requirement already satisfied: kiwisolver>=1.3.1 in /usr/local/lib/python3.10/dist-packages (from matplotlib>=3.3.0->ultralytics) (1.4.8)\n",
            "Requirement already satisfied: packaging>=20.0 in /usr/local/lib/python3.10/dist-packages (from matplotlib>=3.3.0->ultralytics) (24.2)\n",
            "Requirement already satisfied: pyparsing>=2.3.1 in /usr/local/lib/python3.10/dist-packages (from matplotlib>=3.3.0->ultralytics) (3.2.1)\n",
            "Requirement already satisfied: python-dateutil>=2.7 in /usr/local/lib/python3.10/dist-packages (from matplotlib>=3.3.0->ultralytics) (2.8.2)\n",
            "Requirement already satisfied: pytz>=2020.1 in /usr/local/lib/python3.10/dist-packages (from pandas>=1.1.4->ultralytics) (2024.2)\n",
            "Requirement already satisfied: tzdata>=2022.7 in /usr/local/lib/python3.10/dist-packages (from pandas>=1.1.4->ultralytics) (2024.2)\n",
            "Requirement already satisfied: charset-normalizer<4,>=2 in /usr/local/lib/python3.10/dist-packages (from requests>=2.23.0->ultralytics) (3.4.1)\n",
            "Requirement already satisfied: idna<4,>=2.5 in /usr/local/lib/python3.10/dist-packages (from requests>=2.23.0->ultralytics) (3.10)\n",
            "Requirement already satisfied: urllib3<3,>=1.21.1 in /usr/local/lib/python3.10/dist-packages (from requests>=2.23.0->ultralytics) (2.3.0)\n",
            "Requirement already satisfied: certifi>=2017.4.17 in /usr/local/lib/python3.10/dist-packages (from requests>=2.23.0->ultralytics) (2024.12.14)\n",
            "Requirement already satisfied: filelock in /usr/local/lib/python3.10/dist-packages (from torch>=1.8.0->ultralytics) (3.16.1)\n",
            "Requirement already satisfied: typing-extensions>=4.8.0 in /usr/local/lib/python3.10/dist-packages (from torch>=1.8.0->ultralytics) (4.12.2)\n",
            "Requirement already satisfied: networkx in /usr/local/lib/python3.10/dist-packages (from torch>=1.8.0->ultralytics) (3.4.2)\n",
            "Requirement already satisfied: jinja2 in /usr/local/lib/python3.10/dist-packages (from torch>=1.8.0->ultralytics) (3.1.5)\n",
            "Requirement already satisfied: fsspec in /usr/local/lib/python3.10/dist-packages (from torch>=1.8.0->ultralytics) (2024.10.0)\n",
            "Requirement already satisfied: sympy==1.13.1 in /usr/local/lib/python3.10/dist-packages (from torch>=1.8.0->ultralytics) (1.13.1)\n",
            "Requirement already satisfied: mpmath<1.4,>=1.1.0 in /usr/local/lib/python3.10/dist-packages (from sympy==1.13.1->torch>=1.8.0->ultralytics) (1.3.0)\n",
            "Requirement already satisfied: six>=1.5 in /usr/local/lib/python3.10/dist-packages (from python-dateutil>=2.7->matplotlib>=3.3.0->ultralytics) (1.17.0)\n",
            "Requirement already satisfied: MarkupSafe>=2.0 in /usr/local/lib/python3.10/dist-packages (from jinja2->torch>=1.8.0->ultralytics) (3.0.2)\n",
            "Downloading ultralytics-8.3.154-py3-none-any.whl (1.0 MB)\n",
            "\u001b[2K   \u001b[90m━━━━━━━━━━━━━━━━━━━━━━━━━━━━━━━━━━━━━━━━\u001b[0m \u001b[32m1.0/1.0 MB\u001b[0m \u001b[31m85.4 MB/s\u001b[0m eta \u001b[36m0:00:00\u001b[0m\n",
            "\u001b[?25hDownloading ultralytics_thop-2.0.14-py3-none-any.whl (26 kB)\n",
            "Installing collected packages: ultralytics-thop, ultralytics\n",
            "Successfully installed ultralytics-8.3.154 ultralytics-thop-2.0.14\n"
          ]
        }
      ]
    },
    {
      "cell_type": "code",
      "source": [
        "import kagglehub\n",
        "import shutil"
      ],
      "metadata": {
        "id": "rBEQTfP2-EJF"
      },
      "id": "rBEQTfP2-EJF",
      "execution_count": 2,
      "outputs": []
    },
    {
      "cell_type": "code",
      "source": [
        "# Download latest version\n",
        "path = kagglehub.dataset_download(\"grogu22/wheat-leaf-rust\")\n",
        "\n",
        "print(\"Path to dataset files:\", path)\n",
        "\n",
        "# Define the target path where you want to store the dataset in the content folder\n",
        "colab_content_path = '/content/wheat-leaf-rust'\n",
        "\n",
        "# Move the dataset to the content folder\n",
        "shutil.move(path, colab_content_path)\n",
        "\n",
        "print(\"Path to dataset files:\", colab_content_path)"
      ],
      "metadata": {
        "colab": {
          "base_uri": "https://localhost:8080/"
        },
        "id": "yEGexASl-LbY",
        "outputId": "ad2fa824-3a1f-490a-f444-6bd0b8976209"
      },
      "id": "yEGexASl-LbY",
      "execution_count": 3,
      "outputs": [
        {
          "output_type": "stream",
          "name": "stdout",
          "text": [
            "Warning: Looks like you're using an outdated `kagglehub` version (installed: 0.3.6), please consider upgrading to the latest version (0.3.12).\n",
            "Downloading from https://www.kaggle.com/api/v1/datasets/download/grogu22/wheat-leaf-rust?dataset_version_number=2...\n"
          ]
        },
        {
          "output_type": "stream",
          "name": "stderr",
          "text": [
            "100%|██████████| 242M/242M [00:12<00:00, 20.3MB/s]"
          ]
        },
        {
          "output_type": "stream",
          "name": "stdout",
          "text": [
            "Extracting files...\n"
          ]
        },
        {
          "output_type": "stream",
          "name": "stderr",
          "text": [
            "\n"
          ]
        },
        {
          "output_type": "stream",
          "name": "stdout",
          "text": [
            "Path to dataset files: /root/.cache/kagglehub/datasets/grogu22/wheat-leaf-rust/versions/2\n",
            "Path to dataset files: /content/wheat-leaf-rust\n"
          ]
        }
      ]
    },
    {
      "cell_type": "code",
      "source": [
        "import wandb\n",
        "import shutil\n",
        "import yaml\n",
        "import datetime\n",
        "from pathlib import Path\n",
        "from tqdm import tqdm\n",
        "from sklearn.model_selection import StratifiedKFold\n",
        "from ultralytics import YOLO"
      ],
      "metadata": {
        "colab": {
          "base_uri": "https://localhost:8080/"
        },
        "id": "dNoQY9l6-SoW",
        "outputId": "c8fbc173-be61-49d7-8264-c731ddcada4c"
      },
      "id": "dNoQY9l6-SoW",
      "execution_count": 4,
      "outputs": [
        {
          "output_type": "stream",
          "name": "stdout",
          "text": [
            "Creating new Ultralytics Settings v0.0.6 file ✅ \n",
            "View Ultralytics Settings with 'yolo settings' or at '/root/.config/Ultralytics/settings.json'\n",
            "Update Settings with 'yolo settings key=value', i.e. 'yolo settings runs_dir=path/to/dir'. For help see https://docs.ultralytics.com/quickstart/#ultralytics-settings.\n"
          ]
        }
      ]
    },
    {
      "cell_type": "code",
      "source": [
        "wandb_secret_key = 'f6b613e332f4b0aaf58430429473f05258b6d490'\n",
        "wandb.login(key=wandb_secret_key)"
      ],
      "metadata": {
        "colab": {
          "base_uri": "https://localhost:8080/"
        },
        "id": "G0H-Eau0-Vj7",
        "outputId": "d6439087-898f-4a87-9543-09147dd63b24"
      },
      "id": "G0H-Eau0-Vj7",
      "execution_count": 5,
      "outputs": [
        {
          "output_type": "stream",
          "name": "stderr",
          "text": [
            "\u001b[34m\u001b[1mwandb\u001b[0m: Using wandb-core as the SDK backend.  Please refer to https://wandb.me/wandb-core for more information.\n",
            "\u001b[34m\u001b[1mwandb\u001b[0m: Currently logged in as: \u001b[33mjonjo-bonito\u001b[0m. Use \u001b[1m`wandb login --relogin`\u001b[0m to force relogin\n",
            "\u001b[34m\u001b[1mwandb\u001b[0m: \u001b[33mWARNING\u001b[0m If you're specifying your api key in code, ensure this code is not shared publicly.\n",
            "\u001b[34m\u001b[1mwandb\u001b[0m: \u001b[33mWARNING\u001b[0m Consider setting the WANDB_API_KEY environment variable, or running `wandb login` from the command line.\n",
            "\u001b[34m\u001b[1mwandb\u001b[0m: Appending key for api.wandb.ai to your netrc file: /root/.netrc\n"
          ]
        },
        {
          "output_type": "execute_result",
          "data": {
            "text/plain": [
              "True"
            ]
          },
          "metadata": {},
          "execution_count": 5
        }
      ]
    },
    {
      "cell_type": "code",
      "source": [
        "ROOT = Path(\"/content/wheat-leaf-rust/WheatLeafRust/\")\n",
        "TRAIN_DIR = ROOT / \"train\""
      ],
      "metadata": {
        "id": "LrinNkFO-Ygj"
      },
      "id": "LrinNkFO-Ygj",
      "execution_count": 6,
      "outputs": []
    },
    {
      "cell_type": "code",
      "source": [
        "TRAIN_DIR"
      ],
      "metadata": {
        "colab": {
          "base_uri": "https://localhost:8080/"
        },
        "id": "cuwOFq9s-bQV",
        "outputId": "0da25006-cb03-42b4-a94b-8cbaf33fb4f5"
      },
      "id": "cuwOFq9s-bQV",
      "execution_count": 7,
      "outputs": [
        {
          "output_type": "execute_result",
          "data": {
            "text/plain": [
              "PosixPath('/content/wheat-leaf-rust/WheatLeafRust/train')"
            ]
          },
          "metadata": {},
          "execution_count": 7
        }
      ]
    },
    {
      "cell_type": "code",
      "source": [
        "CLASSES = [\"healthy\", \"leaf_rust\"]\n",
        "K = 5\n",
        "EPOCHS = 12\n",
        "BATCH = 16"
      ],
      "metadata": {
        "id": "RWQHh2IJ-c9M"
      },
      "id": "RWQHh2IJ-c9M",
      "execution_count": 8,
      "outputs": []
    },
    {
      "cell_type": "code",
      "source": [
        "run = wandb.init(\n",
        "    # Set the project where this run will be logged\n",
        "    project=\"YOLOv8-on-wheat-rust-13-06-2\"\n",
        ")"
      ],
      "metadata": {
        "colab": {
          "base_uri": "https://localhost:8080/",
          "height": 104
        },
        "id": "UktjzWFO-f81",
        "outputId": "e6aa6638-78ad-44b0-ed60-8d2ea0e83fd4"
      },
      "id": "UktjzWFO-f81",
      "execution_count": 9,
      "outputs": [
        {
          "output_type": "display_data",
          "data": {
            "text/plain": [
              "<IPython.core.display.HTML object>"
            ],
            "text/html": [
              "Tracking run with wandb version 0.19.1"
            ]
          },
          "metadata": {}
        },
        {
          "output_type": "display_data",
          "data": {
            "text/plain": [
              "<IPython.core.display.HTML object>"
            ],
            "text/html": [
              "Run data is saved locally in <code>/content/wandb/run-20250612_215543-lef02cp8</code>"
            ]
          },
          "metadata": {}
        },
        {
          "output_type": "display_data",
          "data": {
            "text/plain": [
              "<IPython.core.display.HTML object>"
            ],
            "text/html": [
              "Syncing run <strong><a href='https://wandb.ai/jonjo-bonito/YOLOv8-on-wheat-rust-13-06-2/runs/lef02cp8' target=\"_blank\">dulcet-thunder-1</a></strong> to <a href='https://wandb.ai/jonjo-bonito/YOLOv8-on-wheat-rust-13-06-2' target=\"_blank\">Weights & Biases</a> (<a href='https://wandb.me/developer-guide' target=\"_blank\">docs</a>)<br>"
            ]
          },
          "metadata": {}
        },
        {
          "output_type": "display_data",
          "data": {
            "text/plain": [
              "<IPython.core.display.HTML object>"
            ],
            "text/html": [
              " View project at <a href='https://wandb.ai/jonjo-bonito/YOLOv8-on-wheat-rust-13-06-2' target=\"_blank\">https://wandb.ai/jonjo-bonito/YOLOv8-on-wheat-rust-13-06-2</a>"
            ]
          },
          "metadata": {}
        },
        {
          "output_type": "display_data",
          "data": {
            "text/plain": [
              "<IPython.core.display.HTML object>"
            ],
            "text/html": [
              " View run at <a href='https://wandb.ai/jonjo-bonito/YOLOv8-on-wheat-rust-13-06-2/runs/lef02cp8' target=\"_blank\">https://wandb.ai/jonjo-bonito/YOLOv8-on-wheat-rust-13-06-2/runs/lef02cp8</a>"
            ]
          },
          "metadata": {}
        }
      ]
    },
    {
      "cell_type": "code",
      "source": [
        "PROJECT    = \"runs/kfold_wheat_leaf_rust\""
      ],
      "metadata": {
        "id": "hbew5abj-jhv"
      },
      "id": "hbew5abj-jhv",
      "execution_count": 10,
      "outputs": []
    },
    {
      "cell_type": "code",
      "source": [
        "all_imgs, all_lbls = [], []\n",
        "for cls_idx, cls in enumerate(CLASSES):\n",
        "    for img in (TRAIN_DIR/cls).glob(\"*.*\"):\n",
        "        if img.suffix.lower() in [\".jpg\",\".jpeg\",\".png\"]:\n",
        "            all_imgs.append(img)\n",
        "            all_lbls.append(cls_idx)"
      ],
      "metadata": {
        "id": "dPehVdh--mGK"
      },
      "id": "dPehVdh--mGK",
      "execution_count": 11,
      "outputs": []
    },
    {
      "cell_type": "code",
      "source": [
        "from PIL import Image"
      ],
      "metadata": {
        "id": "84ObevNL-nz8"
      },
      "id": "84ObevNL-nz8",
      "execution_count": 12,
      "outputs": []
    },
    {
      "cell_type": "code",
      "source": [
        "all_imgs[:5]"
      ],
      "metadata": {
        "colab": {
          "base_uri": "https://localhost:8080/"
        },
        "id": "l0yYDTmA-qkj",
        "outputId": "2a848266-bd5c-46dd-cc46-0fc24b1f3644"
      },
      "id": "l0yYDTmA-qkj",
      "execution_count": 13,
      "outputs": [
        {
          "output_type": "execute_result",
          "data": {
            "text/plain": [
              "[PosixPath('/content/wheat-leaf-rust/WheatLeafRust/train/healthy/47.jpg'),\n",
              " PosixPath('/content/wheat-leaf-rust/WheatLeafRust/train/healthy/174.jpg'),\n",
              " PosixPath('/content/wheat-leaf-rust/WheatLeafRust/train/healthy/198.jpg'),\n",
              " PosixPath('/content/wheat-leaf-rust/WheatLeafRust/train/healthy/297.jpg'),\n",
              " PosixPath('/content/wheat-leaf-rust/WheatLeafRust/train/healthy/49.jpg')]"
            ]
          },
          "metadata": {},
          "execution_count": 13
        }
      ]
    },
    {
      "cell_type": "code",
      "source": [
        "all_lbls[:5]"
      ],
      "metadata": {
        "colab": {
          "base_uri": "https://localhost:8080/"
        },
        "id": "efZ7id-E-scV",
        "outputId": "dc43a24e-b164-4ed1-d24e-135d7385b7ed"
      },
      "id": "efZ7id-E-scV",
      "execution_count": 14,
      "outputs": [
        {
          "output_type": "execute_result",
          "data": {
            "text/plain": [
              "[0, 0, 0, 0, 0]"
            ]
          },
          "metadata": {},
          "execution_count": 14
        }
      ]
    },
    {
      "cell_type": "code",
      "source": [
        "import matplotlib.pyplot as plt\n",
        "rows, cols = 4, 4\n",
        "fig, axs = plt.subplots(rows, cols, figsize=(12, 12))\n",
        "axs = axs.flatten()\n",
        "\n",
        "# Prepare wandb images list for logging\n",
        "wandb_images = []\n",
        "import matplotlib.pyplot as plt\n",
        "\n",
        "for i in range(rows * cols):\n",
        "  ax = axs[i]\n",
        "  ax.axis('off')  # Hide axis by default\n",
        "\n",
        "  if i < 16:\n",
        "    img_path = all_imgs[i]\n",
        "    label = all_lbls[i]\n",
        "\n",
        "    # Load image\n",
        "    img = Image.open(img_path)\n",
        "\n",
        "    # Show image with label as title\n",
        "    ax.imshow(img)\n",
        "    ax.set_title(CLASSES[label], fontsize=10)\n",
        "    ax.axis('on')\n",
        "\n",
        "    # Append to wandb images (with caption)\n",
        "    wandb_images.append(wandb.Image(str(img_path), caption=CLASSES[label]))\n",
        "  else:\n",
        "    ax.set_visible(False)  # Hide empty subplots if less than 16\n",
        "\n",
        "plt.tight_layout()\n",
        "plt.savefig(\"First 16 samples.png\")\n",
        "plt.show()\n",
        "\n",
        "# Log images to wandb\n",
        "wandb.log({\"image_grid\": wandb_images})"
      ],
      "metadata": {
        "colab": {
          "base_uri": "https://localhost:8080/",
          "height": 1000
        },
        "id": "jE977bNx-uJg",
        "outputId": "0d8f6dc9-663e-4b54-b032-ee970251de7f"
      },
      "id": "jE977bNx-uJg",
      "execution_count": 15,
      "outputs": [
        {
          "output_type": "display_data",
          "data": {
            "text/plain": [
              "<Figure size 1200x1200 with 16 Axes>"
            ],
            "image/png": "[encoded data removed]"
          },
          "metadata": {}
        }
      ]
    },
    {
      "cell_type": "code",
      "source": [
        "# Number of samples in training dataset\n",
        "len(all_imgs), len(all_lbls)"
      ],
      "metadata": {
        "colab": {
          "base_uri": "https://localhost:8080/"
        },
        "id": "KwHlhBl8-xHf",
        "outputId": "587eaf19-d897-48cd-d51f-5987faae44e9"
      },
      "id": "KwHlhBl8-xHf",
      "execution_count": 16,
      "outputs": [
        {
          "output_type": "execute_result",
          "data": {
            "text/plain": [
              "(601, 601)"
            ]
          },
          "metadata": {},
          "execution_count": 16
        }
      ]
    },
    {
      "cell_type": "code",
      "source": [
        "skf = StratifiedKFold(n_splits=K, shuffle=True, random_state=42)"
      ],
      "metadata": {
        "id": "Dac4_Rwp-7Gx"
      },
      "id": "Dac4_Rwp-7Gx",
      "execution_count": 17,
      "outputs": []
    },
    {
      "cell_type": "code",
      "source": [
        "splits = list(skf.split(all_imgs, all_lbls))"
      ],
      "metadata": {
        "id": "tfrY80OO--4p"
      },
      "id": "tfrY80OO--4p",
      "execution_count": 18,
      "outputs": []
    },
    {
      "cell_type": "code",
      "source": [
        "OUTPUT_DIR = Path(\"/content/output_dir\")"
      ],
      "metadata": {
        "id": "dTRwDElr_A9b"
      },
      "id": "dTRwDElr_A9b",
      "execution_count": 19,
      "outputs": []
    },
    {
      "cell_type": "code",
      "source": [
        "today = datetime.date.today().isoformat()\n",
        "OUT = OUTPUT_DIR / f\"{today}_{K}-Fold\"\n",
        "OUT.mkdir(parents=True, exist_ok=True)"
      ],
      "metadata": {
        "id": "rVy3YN3w_Iyx"
      },
      "id": "rVy3YN3w_Iyx",
      "execution_count": 20,
      "outputs": []
    },
    {
      "cell_type": "code",
      "source": [
        "data_yaml_paths = []\n",
        "\n",
        "for fold, (train_idx, val_idx) in enumerate(splits, start=1):\n",
        "    fold_dir = OUT / f\"fold_{fold}\"\n",
        "    # make train/val subfolders\n",
        "    for split in (\"train\", \"val\"):\n",
        "        for cls in CLASSES:\n",
        "            (fold_dir/split/cls).mkdir(parents=True, exist_ok=True)\n",
        "\n",
        "    # copy files\n",
        "    for idx in train_idx:\n",
        "        src = all_imgs[idx]\n",
        "        dst = fold_dir/\"train\"/CLASSES[all_lbls[idx]]/src.name\n",
        "        shutil.copy(src, dst)\n",
        "    for idx in val_idx:\n",
        "        src = all_imgs[idx]\n",
        "        dst = fold_dir/\"val\"/CLASSES[all_lbls[idx]]/src.name\n",
        "        shutil.copy(src, dst)\n",
        "\n",
        "    # write data.yaml\n",
        "    dy = {\n",
        "        \"path\":    str(fold_dir.resolve()),\n",
        "        \"train\":   \"train\",\n",
        "        \"val\":     \"val\",\n",
        "        \"names\":   CLASSES\n",
        "    }\n",
        "    yaml_path = fold_dir/\"data.yaml\"\n",
        "    with open(yaml_path, \"w\") as f:\n",
        "        yaml.safe_dump(dy, f)\n",
        "    data_yaml_paths.append(str(yaml_path))"
      ],
      "metadata": {
        "id": "AvVFsY5U_Ly8"
      },
      "id": "AvVFsY5U_Ly8",
      "execution_count": 21,
      "outputs": []
    },
    {
      "cell_type": "code",
      "source": [
        "from sklearn.metrics import roc_auc_score, f1_score, precision_score, recall_score\n",
        "import numpy as np\n",
        "from pathlib import Path\n",
        "from ultralytics import YOLO\n",
        "import yaml\n",
        "\n",
        "results = {}\n",
        "for fold, dy in enumerate(data_yaml_paths, start=1):\n",
        "    fold_dir = Path(dy).parent\n",
        "    print(f\"\\n── Training fold {fold}/{K} ──\")\n",
        "    model = YOLO('yolov8n-cls.pt')\n",
        "    res = model.train(\n",
        "        data=str(fold_dir),\n",
        "        epochs=EPOCHS,\n",
        "        batch=BATCH,\n",
        "        project=PROJECT,\n",
        "        name=f\"fold_{fold}\"\n",
        "    )\n",
        "    results[f\"fold_{fold}\"] = res\n",
        "\n",
        "print(\"\\n✅ All folds trained!\")"
      ],
      "metadata": {
        "colab": {
          "base_uri": "https://localhost:8080/"
        },
        "id": "sKv_WEDb_OgP",
        "outputId": "36c5c951-e013-4a4f-ad62-b377e20fe6c8"
      },
      "id": "sKv_WEDb_OgP",
      "execution_count": 22,
      "outputs": [
        {
          "output_type": "stream",
          "name": "stdout",
          "text": [
            "\n",
            "── Training fold 1/5 ──\n",
            "Downloading https://github.com/ultralytics/assets/releases/download/v8.3.0/yolov8n-cls.pt to 'yolov8n-cls.pt'...\n"
          ]
        },
        {
          "output_type": "stream",
          "name": "stderr",
          "text": [
            "100%|██████████| 5.31M/5.31M [00:00<00:00, 328MB/s]\n"
          ]
        },
        {
          "output_type": "stream",
          "name": "stdout",
          "text": [
            "Ultralytics 8.3.154 🚀 Python-3.10.12 torch-2.5.1+cu121 CUDA:0 (NVIDIA A100-SXM4-40GB, 40442MiB)\n",
            "\u001b[34m\u001b[1mengine/trainer: \u001b[0magnostic_nms=False, amp=True, augment=False, auto_augment=randaugment, batch=16, bgr=0.0, box=7.5, cache=False, cfg=None, classes=None, close_mosaic=10, cls=0.5, conf=None, copy_paste=0.0, copy_paste_mode=flip, cos_lr=False, cutmix=0.0, data=/content/output_dir/2025-06-12_5-Fold/fold_1, degrees=0.0, deterministic=True, device=None, dfl=1.5, dnn=False, dropout=0.0, dynamic=False, embed=None, epochs=12, erasing=0.4, exist_ok=False, fliplr=0.5, flipud=0.0, format=torchscript, fraction=1.0, freeze=None, half=False, hsv_h=0.015, hsv_s=0.7, hsv_v=0.4, imgsz=224, int8=False, iou=0.7, keras=False, kobj=1.0, line_width=None, lr0=0.01, lrf=0.01, mask_ratio=4, max_det=300, mixup=0.0, mode=train, model=yolov8n-cls.pt, momentum=0.937, mosaic=1.0, multi_scale=False, name=fold_1, nbs=64, nms=False, opset=None, optimize=False, optimizer=auto, overlap_mask=True, patience=100, perspective=0.0, plots=True, pose=12.0, pretrained=True, profile=False, project=runs/kfold_wheat_leaf_rust, rect=False, resume=False, retina_masks=False, save=True, save_conf=False, save_crop=False, save_dir=runs/kfold_wheat_leaf_rust/fold_1, save_frames=False, save_json=False, save_period=-1, save_txt=False, scale=0.5, seed=0, shear=0.0, show=False, show_boxes=True, show_conf=True, show_labels=True, simplify=True, single_cls=False, source=None, split=val, stream_buffer=False, task=classify, time=None, tracker=botsort.yaml, translate=0.1, val=True, verbose=True, vid_stride=1, visualize=False, warmup_bias_lr=0.1, warmup_epochs=3.0, warmup_momentum=0.8, weight_decay=0.0005, workers=8, workspace=None\n",
            "\u001b[34m\u001b[1mtrain:\u001b[0m /content/output_dir/2025-06-12_5-Fold/fold_1/train... found 480 images in 2 classes ✅ \n",
            "\u001b[34m\u001b[1mval:\u001b[0m /content/output_dir/2025-06-12_5-Fold/fold_1/val... found 121 images in 2 classes ✅ \n",
            "\u001b[34m\u001b[1mtest:\u001b[0m None...\n",
            "Overriding model.yaml nc=1000 with nc=2\n",
            "\n",
            "                   from  n    params  module                                       arguments                     \n",
            "  0                  -1  1       464  ultralytics.nn.modules.conv.Conv             [3, 16, 3, 2]                 \n",
            "  1                  -1  1      4672  ultralytics.nn.modules.conv.Conv             [16, 32, 3, 2]                \n",
            "  2                  -1  1      7360  ultralytics.nn.modules.block.C2f             [32, 32, 1, True]             \n",
            "  3                  -1  1     18560  ultralytics.nn.modules.conv.Conv             [32, 64, 3, 2]                \n",
            "  4                  -1  2     49664  ultralytics.nn.modules.block.C2f             [64, 64, 2, True]             \n",
            "  5                  -1  1     73984  ultralytics.nn.modules.conv.Conv             [64, 128, 3, 2]               \n",
            "  6                  -1  2    197632  ultralytics.nn.modules.block.C2f             [128, 128, 2, True]           \n",
            "  7                  -1  1    295424  ultralytics.nn.modules.conv.Conv             [128, 256, 3, 2]              \n",
            "  8                  -1  1    460288  ultralytics.nn.modules.block.C2f             [256, 256, 1, True]           \n",
            "  9                  -1  1    332802  ultralytics.nn.modules.head.Classify         [256, 2]                      \n",
            "YOLOv8n-cls summary: 56 layers, 1,440,850 parameters, 1,440,850 gradients, 3.4 GFLOPs\n",
            "Transferred 156/158 items from pretrained weights\n",
            "\u001b[34m\u001b[1mAMP: \u001b[0mrunning Automatic Mixed Precision (AMP) checks...\n",
            "Downloading https://github.com/ultralytics/assets/releases/download/v8.3.0/yolo11n.pt to 'yolo11n.pt'...\n"
          ]
        },
        {
          "output_type": "stream",
          "name": "stderr",
          "text": [
            "100%|██████████| 5.35M/5.35M [00:00<00:00, 474MB/s]\n"
          ]
        },
        {
          "output_type": "stream",
          "name": "stdout",
          "text": [
            "\u001b[34m\u001b[1mAMP: \u001b[0mchecks passed ✅\n",
            "\u001b[34m\u001b[1mtrain: \u001b[0mFast image access ✅ (ping: 0.0±0.0 ms, read: 3022.8±552.9 MB/s, size: 392.9 KB)\n"
          ]
        },
        {
          "output_type": "stream",
          "name": "stderr",
          "text": [
            "\u001b[34m\u001b[1mtrain: \u001b[0mScanning /content/output_dir/2025-06-12_5-Fold/fold_1/train... 480 images, 0 corrupt: 100%|██████████| 480/480 [00:00<00:00, 2911.97it/s]"
          ]
        },
        {
          "output_type": "stream",
          "name": "stdout",
          "text": [
            "\u001b[34m\u001b[1mtrain: \u001b[0mNew cache created: /content/output_dir/2025-06-12_5-Fold/fold_1/train.cache\n"
          ]
        },
        {
          "output_type": "stream",
          "name": "stderr",
          "text": [
            "\n"
          ]
        },
        {
          "output_type": "stream",
          "name": "stdout",
          "text": [
            "\u001b[34m\u001b[1mval: \u001b[0mFast image access ✅ (ping: 0.0±0.0 ms, read: 2512.4±2280.6 MB/s, size: 388.8 KB)\n"
          ]
        },
        {
          "output_type": "stream",
          "name": "stderr",
          "text": [
            "\u001b[34m\u001b[1mval: \u001b[0mScanning /content/output_dir/2025-06-12_5-Fold/fold_1/val... 121 images, 0 corrupt: 100%|██████████| 121/121 [00:00<00:00, 2343.10it/s]"
          ]
        },
        {
          "output_type": "stream",
          "name": "stdout",
          "text": [
            "\u001b[34m\u001b[1mval: \u001b[0mNew cache created: /content/output_dir/2025-06-12_5-Fold/fold_1/val.cache\n"
          ]
        },
        {
          "output_type": "stream",
          "name": "stderr",
          "text": [
            "\n"
          ]
        },
        {
          "output_type": "stream",
          "name": "stdout",
          "text": [
            "\u001b[34m\u001b[1moptimizer:\u001b[0m 'optimizer=auto' found, ignoring 'lr0=0.01' and 'momentum=0.937' and determining best 'optimizer', 'lr0' and 'momentum' automatically... \n",
            "\u001b[34m\u001b[1moptimizer:\u001b[0m AdamW(lr=0.001667, momentum=0.9) with parameter groups 26 weight(decay=0.0), 27 weight(decay=0.0005), 27 bias(decay=0.0)\n",
            "Image sizes 224 train, 224 val\n",
            "Using 8 dataloader workers\n",
            "Logging results to \u001b[1mruns/kfold_wheat_leaf_rust/fold_1\u001b[0m\n",
            "Starting training for 12 epochs...\n",
            "\n",
            "      Epoch    GPU_mem       loss  Instances       Size\n"
          ]
        },
        {
          "output_type": "stream",
          "name": "stderr",
          "text": [
            "       1/12     0.225G     0.6789         16        224:   3%|▎         | 1/30 [00:03<01:50,  3.81s/it]Thread-40 (plot_images):\n",
            "Traceback (most recent call last):\n",
            "  File \"/usr/lib/python3.10/threading.py\", line 1016, in _bootstrap_inner\n",
            "    self.run()\n",
            "  File \"/usr/lib/python3.10/threading.py\", line 953, in run\n",
            "    self._target(*self._args, **self._kwargs)\n",
            "TypeError: plot_images() got an unexpected keyword argument 'batch_idx'\n",
            "       1/12      0.23G     0.6559         16        224:   7%|▋         | 2/30 [00:03<00:45,  1.64s/it]Thread-41 (plot_images):\n",
            "Traceback (most recent call last):\n",
            "  File \"/usr/lib/python3.10/threading.py\", line 1016, in _bootstrap_inner\n",
            "    self.run()\n",
            "  File \"/usr/lib/python3.10/threading.py\", line 953, in run\n",
            "    self._target(*self._args, **self._kwargs)\n",
            "TypeError: plot_images() got an unexpected keyword argument 'batch_idx'\n",
            "       1/12      0.23G     0.6619         16        224:  10%|█         | 3/30 [00:04<00:25,  1.07it/s]:\n",
            "Traceback (most recent call last):\n",
            "  File \"/usr/lib/python3.10/threading.py\", line 1016, in _bootstrap_inner\n",
            "    self.run()\n",
            "  File \"/usr/lib/python3.10/threading.py\", line 953, in run\n",
            "    self._target(*self._args, **self._kwargs)\n",
            "TypeError: plot_images() got an unexpected keyword argument 'batch_idx'\n",
            "       1/12     0.234G     0.4926         16        224: 100%|██████████| 30/30 [00:09<00:00,  3.04it/s]\n",
            "               classes   top1_acc   top5_acc: 100%|██████████| 4/4 [00:00<00:00, 17.19it/s]"
          ]
        },
        {
          "output_type": "stream",
          "name": "stdout",
          "text": [
            "                   all      0.975          1\n"
          ]
        },
        {
          "output_type": "stream",
          "name": "stderr",
          "text": [
            "\n"
          ]
        },
        {
          "output_type": "stream",
          "name": "stdout",
          "text": [
            "\n",
            "      Epoch    GPU_mem       loss  Instances       Size\n"
          ]
        },
        {
          "output_type": "stream",
          "name": "stderr",
          "text": [
            "       2/12     0.254G     0.1907         16        224: 100%|██████████| 30/30 [00:06<00:00,  4.66it/s]\n",
            "               classes   top1_acc   top5_acc: 100%|██████████| 4/4 [00:00<00:00, 72.64it/s]"
          ]
        },
        {
          "output_type": "stream",
          "name": "stdout",
          "text": [
            "                   all      0.992          1\n"
          ]
        },
        {
          "output_type": "stream",
          "name": "stderr",
          "text": [
            "\n"
          ]
        },
        {
          "output_type": "stream",
          "name": "stdout",
          "text": [
            "\n",
            "      Epoch    GPU_mem       loss  Instances       Size\n"
          ]
        },
        {
          "output_type": "stream",
          "name": "stderr",
          "text": [
            "       3/12     0.254G     0.3271         16        224:   0%|          | 0/30 [00:00<?, ?it/s]Exception in thread Thread-44 (plot_images):\n",
            "Traceback (most recent call last):\n",
            "  File \"/usr/lib/python3.10/threading.py\", line 1016, in _bootstrap_inner\n",
            "    self.run()\n",
            "  File \"/usr/lib/python3.10/threading.py\", line 953, in run\n",
            "    self._target(*self._args, **self._kwargs)\n",
            "TypeError: plot_images() got an unexpected keyword argument 'batch_idx'\n",
            "       3/12     0.254G     0.1924         16        224:   7%|▋         | 2/30 [00:00<00:07,  3.87it/s]Thread-45 (plot_images):\n",
            "Traceback (most recent call last):\n",
            "  File \"/usr/lib/python3.10/threading.py\", line 1016, in _bootstrap_inner\n",
            "    self.run()\n",
            "  File \"/usr/lib/python3.10/threading.py\", line 953, in run\n",
            "    self._target(*self._args, **self._kwargs)\n",
            "TypeError: plot_images() got an unexpected keyword argument 'batch_idx'\n",
            "       3/12     0.254G     0.1803         16        224:   7%|▋         | 2/30 [00:00<00:07,  3.87it/s]Exception in thread Thread-46 (plot_images):\n",
            "Traceback (most recent call last):\n",
            "  File \"/usr/lib/python3.10/threading.py\", line 1016, in _bootstrap_inner\n",
            "    self.run()\n",
            "  File \"/usr/lib/python3.10/threading.py\", line 953, in run\n",
            "    self._target(*self._args, **self._kwargs)\n",
            "TypeError: plot_images() got an unexpected keyword argument 'batch_idx'\n",
            "       3/12     0.254G     0.2611         16        224: 100%|██████████| 30/30 [00:04<00:00,  6.30it/s]\n",
            "               classes   top1_acc   top5_acc: 100%|██████████| 4/4 [00:00<00:00, 62.47it/s]"
          ]
        },
        {
          "output_type": "stream",
          "name": "stdout",
          "text": [
            "                   all       0.95          1\n"
          ]
        },
        {
          "output_type": "stream",
          "name": "stderr",
          "text": [
            "\n"
          ]
        },
        {
          "output_type": "stream",
          "name": "stdout",
          "text": [
            "\n",
            "      Epoch    GPU_mem       loss  Instances       Size\n"
          ]
        },
        {
          "output_type": "stream",
          "name": "stderr",
          "text": [
            "       4/12     0.254G     0.1836         16        224: 100%|██████████| 30/30 [00:06<00:00,  4.78it/s]\n",
            "               classes   top1_acc   top5_acc: 100%|██████████| 4/4 [00:00<00:00, 69.94it/s]"
          ]
        },
        {
          "output_type": "stream",
          "name": "stdout",
          "text": [
            "                   all      0.992          1\n"
          ]
        },
        {
          "output_type": "stream",
          "name": "stderr",
          "text": [
            "\n"
          ]
        },
        {
          "output_type": "stream",
          "name": "stdout",
          "text": [
            "\n",
            "      Epoch    GPU_mem       loss  Instances       Size\n"
          ]
        },
        {
          "output_type": "stream",
          "name": "stderr",
          "text": [
            "       5/12     0.254G      0.206         16        224: 100%|██████████| 30/30 [00:06<00:00,  4.69it/s]\n",
            "               classes   top1_acc   top5_acc: 100%|██████████| 4/4 [00:00<00:00, 112.11it/s]"
          ]
        },
        {
          "output_type": "stream",
          "name": "stdout",
          "text": [
            "                   all      0.959          1\n",
            "\n",
            "      Epoch    GPU_mem       loss  Instances       Size\n"
          ]
        },
        {
          "output_type": "stream",
          "name": "stderr",
          "text": [
            "\n",
            "       6/12     0.254G     0.1347         16        224: 100%|██████████| 30/30 [00:05<00:00,  5.82it/s]\n",
            "               classes   top1_acc   top5_acc: 100%|██████████| 4/4 [00:00<00:00, 64.08it/s]"
          ]
        },
        {
          "output_type": "stream",
          "name": "stdout",
          "text": [
            "                   all      0.983          1\n"
          ]
        },
        {
          "output_type": "stream",
          "name": "stderr",
          "text": [
            "\n"
          ]
        },
        {
          "output_type": "stream",
          "name": "stdout",
          "text": [
            "\n",
            "      Epoch    GPU_mem       loss  Instances       Size\n"
          ]
        },
        {
          "output_type": "stream",
          "name": "stderr",
          "text": [
            "       7/12     0.254G     0.1187         16        224: 100%|██████████| 30/30 [00:06<00:00,  4.97it/s]\n",
            "               classes   top1_acc   top5_acc: 100%|██████████| 4/4 [00:00<00:00, 96.50it/s]\n"
          ]
        },
        {
          "output_type": "stream",
          "name": "stdout",
          "text": [
            "                   all      0.992          1\n",
            "\n",
            "      Epoch    GPU_mem       loss  Instances       Size\n"
          ]
        },
        {
          "output_type": "stream",
          "name": "stderr",
          "text": [
            "       8/12     0.254G    0.09569         16        224: 100%|██████████| 30/30 [00:05<00:00,  5.10it/s]\n",
            "               classes   top1_acc   top5_acc: 100%|██████████| 4/4 [00:00<00:00, 96.21it/s]"
          ]
        },
        {
          "output_type": "stream",
          "name": "stdout",
          "text": [
            "                   all      0.983          1\n"
          ]
        },
        {
          "output_type": "stream",
          "name": "stderr",
          "text": [
            "\n"
          ]
        },
        {
          "output_type": "stream",
          "name": "stdout",
          "text": [
            "\n",
            "      Epoch    GPU_mem       loss  Instances       Size\n"
          ]
        },
        {
          "output_type": "stream",
          "name": "stderr",
          "text": [
            "       9/12     0.254G    0.09376         16        224: 100%|██████████| 30/30 [00:06<00:00,  4.77it/s]\n",
            "               classes   top1_acc   top5_acc: 100%|██████████| 4/4 [00:00<00:00, 114.00it/s]"
          ]
        },
        {
          "output_type": "stream",
          "name": "stdout",
          "text": [
            "                   all      0.975          1\n"
          ]
        },
        {
          "output_type": "stream",
          "name": "stderr",
          "text": [
            "\n"
          ]
        },
        {
          "output_type": "stream",
          "name": "stdout",
          "text": [
            "\n",
            "      Epoch    GPU_mem       loss  Instances       Size\n"
          ]
        },
        {
          "output_type": "stream",
          "name": "stderr",
          "text": [
            "      10/12     0.254G    0.09823         16        224: 100%|██████████| 30/30 [00:05<00:00,  5.69it/s]\n",
            "               classes   top1_acc   top5_acc: 100%|██████████| 4/4 [00:00<00:00, 74.30it/s]"
          ]
        },
        {
          "output_type": "stream",
          "name": "stdout",
          "text": [
            "                   all          1          1\n"
          ]
        },
        {
          "output_type": "stream",
          "name": "stderr",
          "text": [
            "\n"
          ]
        },
        {
          "output_type": "stream",
          "name": "stdout",
          "text": [
            "\n",
            "      Epoch    GPU_mem       loss  Instances       Size\n"
          ]
        },
        {
          "output_type": "stream",
          "name": "stderr",
          "text": [
            "      11/12     0.254G    0.08784         16        224: 100%|██████████| 30/30 [00:06<00:00,  4.96it/s]\n",
            "               classes   top1_acc   top5_acc: 100%|██████████| 4/4 [00:00<00:00, 74.84it/s]"
          ]
        },
        {
          "output_type": "stream",
          "name": "stdout",
          "text": [
            "                   all          1          1\n"
          ]
        },
        {
          "output_type": "stream",
          "name": "stderr",
          "text": [
            "\n"
          ]
        },
        {
          "output_type": "stream",
          "name": "stdout",
          "text": [
            "\n",
            "      Epoch    GPU_mem       loss  Instances       Size\n"
          ]
        },
        {
          "output_type": "stream",
          "name": "stderr",
          "text": [
            "      12/12     0.254G    0.07986         16        224: 100%|██████████| 30/30 [00:06<00:00,  4.96it/s]\n",
            "               classes   top1_acc   top5_acc: 100%|██████████| 4/4 [00:00<00:00, 85.55it/s]"
          ]
        },
        {
          "output_type": "stream",
          "name": "stdout",
          "text": [
            "                   all          1          1\n"
          ]
        },
        {
          "output_type": "stream",
          "name": "stderr",
          "text": [
            "\n"
          ]
        },
        {
          "output_type": "stream",
          "name": "stdout",
          "text": [
            "\n",
            "12 epochs completed in 0.023 hours.\n",
            "Optimizer stripped from runs/kfold_wheat_leaf_rust/fold_1/weights/last.pt, 3.0MB\n",
            "Optimizer stripped from runs/kfold_wheat_leaf_rust/fold_1/weights/best.pt, 3.0MB\n",
            "\n",
            "Validating runs/kfold_wheat_leaf_rust/fold_1/weights/best.pt...\n",
            "Ultralytics 8.3.154 🚀 Python-3.10.12 torch-2.5.1+cu121 CUDA:0 (NVIDIA A100-SXM4-40GB, 40442MiB)\n",
            "YOLOv8n-cls summary (fused): 30 layers, 1,437,442 parameters, 0 gradients, 3.3 GFLOPs\n",
            "\u001b[34m\u001b[1mtrain:\u001b[0m /content/output_dir/2025-06-12_5-Fold/fold_1/train... found 480 images in 2 classes ✅ \n",
            "\u001b[34m\u001b[1mval:\u001b[0m /content/output_dir/2025-06-12_5-Fold/fold_1/val... found 121 images in 2 classes ✅ \n",
            "\u001b[34m\u001b[1mtest:\u001b[0m None...\n"
          ]
        },
        {
          "output_type": "stream",
          "name": "stderr",
          "text": [
            "               classes   top1_acc   top5_acc: 100%|██████████| 4/4 [00:00<00:00, 23.55it/s]\n"
          ]
        },
        {
          "output_type": "stream",
          "name": "stdout",
          "text": [
            "Downloading https://ultralytics.com/assets/Arial.ttf to '/root/.config/Ultralytics/Arial.ttf'...\n",
            "                   all          1          1\n",
            "Speed: 0.1ms preprocess, 0.3ms inference, 0.0ms loss, 0.0ms postprocess per image\n",
            "Results saved to \u001b[1mruns/kfold_wheat_leaf_rust/fold_1\u001b[0m\n"
          ]
        },
        {
          "output_type": "stream",
          "name": "stderr",
          "text": [
            "100%|██████████| 755k/755k [00:00<00:00, 95.5MB/s]\n"
          ]
        },
        {
          "output_type": "stream",
          "name": "stdout",
          "text": [
            "\n",
            "── Training fold 2/5 ──\n",
            "Ultralytics 8.3.154 🚀 Python-3.10.12 torch-2.5.1+cu121 CUDA:0 (NVIDIA A100-SXM4-40GB, 40442MiB)\n",
            "\u001b[34m\u001b[1mengine/trainer: \u001b[0magnostic_nms=False, amp=True, augment=False, auto_augment=randaugment, batch=16, bgr=0.0, box=7.5, cache=False, cfg=None, classes=None, close_mosaic=10, cls=0.5, conf=None, copy_paste=0.0, copy_paste_mode=flip, cos_lr=False, cutmix=0.0, data=/content/output_dir/2025-06-12_5-Fold/fold_2, degrees=0.0, deterministic=True, device=None, dfl=1.5, dnn=False, dropout=0.0, dynamic=False, embed=None, epochs=12, erasing=0.4, exist_ok=False, fliplr=0.5, flipud=0.0, format=torchscript, fraction=1.0, freeze=None, half=False, hsv_h=0.015, hsv_s=0.7, hsv_v=0.4, imgsz=224, int8=False, iou=0.7, keras=False, kobj=1.0, line_width=None, lr0=0.01, lrf=0.01, mask_ratio=4, max_det=300, mixup=0.0, mode=train, model=yolov8n-cls.pt, momentum=0.937, mosaic=1.0, multi_scale=False, name=fold_2, nbs=64, nms=False, opset=None, optimize=False, optimizer=auto, overlap_mask=True, patience=100, perspective=0.0, plots=True, pose=12.0, pretrained=True, profile=False, project=runs/kfold_wheat_leaf_rust, rect=False, resume=False, retina_masks=False, save=True, save_conf=False, save_crop=False, save_dir=runs/kfold_wheat_leaf_rust/fold_2, save_frames=False, save_json=False, save_period=-1, save_txt=False, scale=0.5, seed=0, shear=0.0, show=False, show_boxes=True, show_conf=True, show_labels=True, simplify=True, single_cls=False, source=None, split=val, stream_buffer=False, task=classify, time=None, tracker=botsort.yaml, translate=0.1, val=True, verbose=True, vid_stride=1, visualize=False, warmup_bias_lr=0.1, warmup_epochs=3.0, warmup_momentum=0.8, weight_decay=0.0005, workers=8, workspace=None\n",
            "\u001b[34m\u001b[1mtrain:\u001b[0m /content/output_dir/2025-06-12_5-Fold/fold_2/train... found 481 images in 2 classes ✅ \n",
            "\u001b[34m\u001b[1mval:\u001b[0m /content/output_dir/2025-06-12_5-Fold/fold_2/val... found 120 images in 2 classes ✅ \n",
            "\u001b[34m\u001b[1mtest:\u001b[0m None...\n",
            "Overriding model.yaml nc=1000 with nc=2\n",
            "\n",
            "                   from  n    params  module                                       arguments                     \n",
            "  0                  -1  1       464  ultralytics.nn.modules.conv.Conv             [3, 16, 3, 2]                 \n",
            "  1                  -1  1      4672  ultralytics.nn.modules.conv.Conv             [16, 32, 3, 2]                \n",
            "  2                  -1  1      7360  ultralytics.nn.modules.block.C2f             [32, 32, 1, True]             \n",
            "  3                  -1  1     18560  ultralytics.nn.modules.conv.Conv             [32, 64, 3, 2]                \n",
            "  4                  -1  2     49664  ultralytics.nn.modules.block.C2f             [64, 64, 2, True]             \n",
            "  5                  -1  1     73984  ultralytics.nn.modules.conv.Conv             [64, 128, 3, 2]               \n",
            "  6                  -1  2    197632  ultralytics.nn.modules.block.C2f             [128, 128, 2, True]           \n",
            "  7                  -1  1    295424  ultralytics.nn.modules.conv.Conv             [128, 256, 3, 2]              \n",
            "  8                  -1  1    460288  ultralytics.nn.modules.block.C2f             [256, 256, 1, True]           \n",
            "  9                  -1  1    332802  ultralytics.nn.modules.head.Classify         [256, 2]                      \n",
            "YOLOv8n-cls summary: 56 layers, 1,440,850 parameters, 1,440,850 gradients, 3.4 GFLOPs\n",
            "Transferred 156/158 items from pretrained weights\n",
            "\u001b[34m\u001b[1mAMP: \u001b[0mrunning Automatic Mixed Precision (AMP) checks...\n",
            "\u001b[34m\u001b[1mAMP: \u001b[0mchecks passed ✅\n",
            "\u001b[34m\u001b[1mtrain: \u001b[0mFast image access ✅ (ping: 0.0±0.0 ms, read: 3296.4±584.5 MB/s, size: 409.2 KB)\n"
          ]
        },
        {
          "output_type": "stream",
          "name": "stderr",
          "text": [
            "\u001b[34m\u001b[1mtrain: \u001b[0mScanning /content/output_dir/2025-06-12_5-Fold/fold_2/train... 481 images, 0 corrupt: 100%|██████████| 481/481 [00:00<00:00, 3058.83it/s]"
          ]
        },
        {
          "output_type": "stream",
          "name": "stdout",
          "text": [
            "\u001b[34m\u001b[1mtrain: \u001b[0mNew cache created: /content/output_dir/2025-06-12_5-Fold/fold_2/train.cache\n"
          ]
        },
        {
          "output_type": "stream",
          "name": "stderr",
          "text": [
            "\n"
          ]
        },
        {
          "output_type": "stream",
          "name": "stdout",
          "text": [
            "\u001b[34m\u001b[1mval: \u001b[0mFast image access ✅ (ping: 0.0±0.0 ms, read: 992.3±1131.0 MB/s, size: 381.9 KB)\n"
          ]
        },
        {
          "output_type": "stream",
          "name": "stderr",
          "text": [
            "\u001b[34m\u001b[1mval: \u001b[0mScanning /content/output_dir/2025-06-12_5-Fold/fold_2/val... 120 images, 0 corrupt: 100%|██████████| 120/120 [00:00<00:00, 2242.79it/s]"
          ]
        },
        {
          "output_type": "stream",
          "name": "stdout",
          "text": [
            "\u001b[34m\u001b[1mval: \u001b[0mNew cache created: /content/output_dir/2025-06-12_5-Fold/fold_2/val.cache\n"
          ]
        },
        {
          "output_type": "stream",
          "name": "stderr",
          "text": [
            "\n"
          ]
        },
        {
          "output_type": "stream",
          "name": "stdout",
          "text": [
            "\u001b[34m\u001b[1moptimizer:\u001b[0m 'optimizer=auto' found, ignoring 'lr0=0.01' and 'momentum=0.937' and determining best 'optimizer', 'lr0' and 'momentum' automatically... \n",
            "\u001b[34m\u001b[1moptimizer:\u001b[0m AdamW(lr=0.001667, momentum=0.9) with parameter groups 26 weight(decay=0.0), 27 weight(decay=0.0005), 27 bias(decay=0.0)\n",
            "Image sizes 224 train, 224 val\n",
            "Using 8 dataloader workers\n",
            "Logging results to \u001b[1mruns/kfold_wheat_leaf_rust/fold_2\u001b[0m\n",
            "Starting training for 12 epochs...\n",
            "\n",
            "      Epoch    GPU_mem       loss  Instances       Size\n"
          ]
        },
        {
          "output_type": "stream",
          "name": "stderr",
          "text": [
            "       1/12     0.236G     0.6952         16        224:   3%|▎         | 1/31 [00:00<00:26,  1.12it/s]Thread-78 (plot_images):\n",
            "Traceback (most recent call last):\n",
            "  File \"/usr/lib/python3.10/threading.py\", line 1016, in _bootstrap_inner\n",
            "    self.run()\n",
            "  File \"/usr/lib/python3.10/threading.py\", line 953, in run\n",
            "    self._target(*self._args, **self._kwargs)\n",
            "TypeError: plot_images() got an unexpected keyword argument 'batch_idx'\n",
            "       1/12     0.264G     0.7082         16        224:   6%|▋         | 2/31 [00:01<00:14,  1.93it/s]Thread-79 (plot_images):\n",
            "Traceback (most recent call last):\n",
            "  File \"/usr/lib/python3.10/threading.py\", line 1016, in _bootstrap_inner\n",
            "    self.run()\n",
            "  File \"/usr/lib/python3.10/threading.py\", line 953, in run\n",
            "    self._target(*self._args, **self._kwargs)\n",
            "TypeError: plot_images() got an unexpected keyword argument 'batch_idx'\n",
            "       1/12     0.264G     0.6959         16        224:   6%|▋         | 2/31 [00:01<00:14,  1.93it/s]Exception in thread Thread-80 (plot_images):\n",
            "Traceback (most recent call last):\n",
            "  File \"/usr/lib/python3.10/threading.py\", line 1016, in _bootstrap_inner\n",
            "    self.run()\n",
            "  File \"/usr/lib/python3.10/threading.py\", line 953, in run\n",
            "    self._target(*self._args, **self._kwargs)\n",
            "TypeError: plot_images() got an unexpected keyword argument 'batch_idx'\n",
            "       1/12     0.266G      0.509          1        224: 100%|██████████| 31/31 [00:08<00:00,  3.78it/s]\n",
            "               classes   top1_acc   top5_acc: 100%|██████████| 4/4 [00:00<00:00, 22.65it/s]"
          ]
        },
        {
          "output_type": "stream",
          "name": "stdout",
          "text": [
            "                   all      0.958          1\n"
          ]
        },
        {
          "output_type": "stream",
          "name": "stderr",
          "text": [
            "\n"
          ]
        },
        {
          "output_type": "stream",
          "name": "stdout",
          "text": [
            "\n",
            "      Epoch    GPU_mem       loss  Instances       Size\n"
          ]
        },
        {
          "output_type": "stream",
          "name": "stderr",
          "text": [
            "       2/12     0.266G     0.1754          1        224: 100%|██████████| 31/31 [00:04<00:00,  7.25it/s]\n",
            "               classes   top1_acc   top5_acc: 100%|██████████| 4/4 [00:00<00:00, 72.93it/s]\n"
          ]
        },
        {
          "output_type": "stream",
          "name": "stdout",
          "text": [
            "                   all      0.975          1\n",
            "\n",
            "      Epoch    GPU_mem       loss  Instances       Size\n"
          ]
        },
        {
          "output_type": "stream",
          "name": "stderr",
          "text": [
            "       3/12     0.266G      0.223         16        224:   3%|▎         | 1/31 [00:00<00:21,  1.38it/s]Thread-82 (plot_images):\n",
            "Traceback (most recent call last):\n",
            "  File \"/usr/lib/python3.10/threading.py\", line 1016, in _bootstrap_inner\n",
            "    self.run()\n",
            "  File \"/usr/lib/python3.10/threading.py\", line 953, in run\n",
            "    self._target(*self._args, **self._kwargs)\n",
            "TypeError: plot_images() got an unexpected keyword argument 'batch_idx'\n",
            "       3/12     0.266G     0.1604         16        224:   3%|▎         | 1/31 [00:00<00:21,  1.38it/s]Exception in thread Thread-83 (plot_images):\n",
            "Traceback (most recent call last):\n",
            "  File \"/usr/lib/python3.10/threading.py\", line 1016, in _bootstrap_inner\n",
            "    self.run()\n",
            "  File \"/usr/lib/python3.10/threading.py\", line 953, in run\n",
            "    self._target(*self._args, **self._kwargs)\n",
            "TypeError: plot_images() got an unexpected keyword argument 'batch_idx'\n",
            "       3/12     0.266G     0.1813         16        224:  10%|▉         | 3/31 [00:00<00:06,  4.39it/s]Thread-84 (plot_images):\n",
            "Traceback (most recent call last):\n",
            "  File \"/usr/lib/python3.10/threading.py\", line 1016, in _bootstrap_inner\n",
            "    self.run()\n",
            "  File \"/usr/lib/python3.10/threading.py\", line 953, in run\n",
            "    self._target(*self._args, **self._kwargs)\n",
            "TypeError: plot_images() got an unexpected keyword argument 'batch_idx'\n",
            "       3/12     0.266G     0.2288          1        224: 100%|██████████| 31/31 [00:05<00:00,  6.02it/s]\n",
            "               classes   top1_acc   top5_acc: 100%|██████████| 4/4 [00:00<00:00, 56.25it/s]"
          ]
        },
        {
          "output_type": "stream",
          "name": "stdout",
          "text": [
            "                   all      0.967          1\n"
          ]
        },
        {
          "output_type": "stream",
          "name": "stderr",
          "text": [
            "\n"
          ]
        },
        {
          "output_type": "stream",
          "name": "stdout",
          "text": [
            "\n",
            "      Epoch    GPU_mem       loss  Instances       Size\n"
          ]
        },
        {
          "output_type": "stream",
          "name": "stderr",
          "text": [
            "       4/12     0.268G     0.1917          1        224: 100%|██████████| 31/31 [00:04<00:00,  7.43it/s]\n",
            "               classes   top1_acc   top5_acc: 100%|██████████| 4/4 [00:00<00:00, 75.31it/s]"
          ]
        },
        {
          "output_type": "stream",
          "name": "stdout",
          "text": [
            "                   all      0.975          1\n"
          ]
        },
        {
          "output_type": "stream",
          "name": "stderr",
          "text": [
            "\n"
          ]
        },
        {
          "output_type": "stream",
          "name": "stdout",
          "text": [
            "\n",
            "      Epoch    GPU_mem       loss  Instances       Size\n"
          ]
        },
        {
          "output_type": "stream",
          "name": "stderr",
          "text": [
            "       5/12     0.268G     0.1285          1        224: 100%|██████████| 31/31 [00:04<00:00,  6.42it/s]\n",
            "               classes   top1_acc   top5_acc: 100%|██████████| 4/4 [00:00<00:00, 71.30it/s]"
          ]
        },
        {
          "output_type": "stream",
          "name": "stdout",
          "text": [
            "                   all      0.983          1\n"
          ]
        },
        {
          "output_type": "stream",
          "name": "stderr",
          "text": [
            "\n"
          ]
        },
        {
          "output_type": "stream",
          "name": "stdout",
          "text": [
            "\n",
            "      Epoch    GPU_mem       loss  Instances       Size\n"
          ]
        },
        {
          "output_type": "stream",
          "name": "stderr",
          "text": [
            "       6/12     0.268G     0.2346          1        224: 100%|██████████| 31/31 [00:04<00:00,  7.73it/s]\n",
            "               classes   top1_acc   top5_acc: 100%|██████████| 4/4 [00:00<00:00, 74.22it/s]"
          ]
        },
        {
          "output_type": "stream",
          "name": "stdout",
          "text": [
            "                   all      0.983          1\n"
          ]
        },
        {
          "output_type": "stream",
          "name": "stderr",
          "text": [
            "\n"
          ]
        },
        {
          "output_type": "stream",
          "name": "stdout",
          "text": [
            "\n",
            "      Epoch    GPU_mem       loss  Instances       Size\n"
          ]
        },
        {
          "output_type": "stream",
          "name": "stderr",
          "text": [
            "       7/12     0.268G    0.08052          1        224: 100%|██████████| 31/31 [00:04<00:00,  6.75it/s]\n",
            "               classes   top1_acc   top5_acc: 100%|██████████| 4/4 [00:00<00:00, 75.24it/s]\n"
          ]
        },
        {
          "output_type": "stream",
          "name": "stdout",
          "text": [
            "                   all      0.983          1\n",
            "\n",
            "      Epoch    GPU_mem       loss  Instances       Size\n"
          ]
        },
        {
          "output_type": "stream",
          "name": "stderr",
          "text": [
            "       8/12     0.268G    0.09713          1        224: 100%|██████████| 31/31 [00:04<00:00,  6.98it/s]\n",
            "               classes   top1_acc   top5_acc: 100%|██████████| 4/4 [00:00<00:00, 68.95it/s]"
          ]
        },
        {
          "output_type": "stream",
          "name": "stdout",
          "text": [
            "                   all      0.983          1\n"
          ]
        },
        {
          "output_type": "stream",
          "name": "stderr",
          "text": [
            "\n"
          ]
        },
        {
          "output_type": "stream",
          "name": "stdout",
          "text": [
            "\n",
            "      Epoch    GPU_mem       loss  Instances       Size\n"
          ]
        },
        {
          "output_type": "stream",
          "name": "stderr",
          "text": [
            "       9/12     0.268G     0.2127          1        224: 100%|██████████| 31/31 [00:04<00:00,  6.87it/s]\n",
            "               classes   top1_acc   top5_acc: 100%|██████████| 4/4 [00:00<00:00, 85.06it/s]"
          ]
        },
        {
          "output_type": "stream",
          "name": "stdout",
          "text": [
            "                   all      0.983          1\n"
          ]
        },
        {
          "output_type": "stream",
          "name": "stderr",
          "text": [
            "\n"
          ]
        },
        {
          "output_type": "stream",
          "name": "stdout",
          "text": [
            "\n",
            "      Epoch    GPU_mem       loss  Instances       Size\n"
          ]
        },
        {
          "output_type": "stream",
          "name": "stderr",
          "text": [
            "      10/12     0.268G    0.09747          1        224: 100%|██████████| 31/31 [00:04<00:00,  7.39it/s]\n",
            "               classes   top1_acc   top5_acc: 100%|██████████| 4/4 [00:00<00:00, 75.15it/s]"
          ]
        },
        {
          "output_type": "stream",
          "name": "stdout",
          "text": [
            "                   all      0.975          1\n"
          ]
        },
        {
          "output_type": "stream",
          "name": "stderr",
          "text": [
            "\n"
          ]
        },
        {
          "output_type": "stream",
          "name": "stdout",
          "text": [
            "\n",
            "      Epoch    GPU_mem       loss  Instances       Size\n"
          ]
        },
        {
          "output_type": "stream",
          "name": "stderr",
          "text": [
            "      11/12     0.268G     0.1022          1        224: 100%|██████████| 31/31 [00:04<00:00,  6.41it/s]\n",
            "               classes   top1_acc   top5_acc: 100%|██████████| 4/4 [00:00<00:00, 46.42it/s]"
          ]
        },
        {
          "output_type": "stream",
          "name": "stdout",
          "text": [
            "                   all      0.975          1\n"
          ]
        },
        {
          "output_type": "stream",
          "name": "stderr",
          "text": [
            "\n"
          ]
        },
        {
          "output_type": "stream",
          "name": "stdout",
          "text": [
            "\n",
            "      Epoch    GPU_mem       loss  Instances       Size\n"
          ]
        },
        {
          "output_type": "stream",
          "name": "stderr",
          "text": [
            "      12/12     0.268G    0.09732          1        224: 100%|██████████| 31/31 [00:04<00:00,  6.93it/s]\n",
            "               classes   top1_acc   top5_acc: 100%|██████████| 4/4 [00:00<00:00, 50.07it/s]"
          ]
        },
        {
          "output_type": "stream",
          "name": "stdout",
          "text": [
            "                   all      0.983          1\n"
          ]
        },
        {
          "output_type": "stream",
          "name": "stderr",
          "text": [
            "\n"
          ]
        },
        {
          "output_type": "stream",
          "name": "stdout",
          "text": [
            "\n",
            "12 epochs completed in 0.018 hours.\n",
            "Optimizer stripped from runs/kfold_wheat_leaf_rust/fold_2/weights/last.pt, 3.0MB\n",
            "Optimizer stripped from runs/kfold_wheat_leaf_rust/fold_2/weights/best.pt, 3.0MB\n",
            "\n",
            "Validating runs/kfold_wheat_leaf_rust/fold_2/weights/best.pt...\n",
            "Ultralytics 8.3.154 🚀 Python-3.10.12 torch-2.5.1+cu121 CUDA:0 (NVIDIA A100-SXM4-40GB, 40442MiB)\n",
            "YOLOv8n-cls summary (fused): 30 layers, 1,437,442 parameters, 0 gradients, 3.3 GFLOPs\n",
            "\u001b[34m\u001b[1mtrain:\u001b[0m /content/output_dir/2025-06-12_5-Fold/fold_2/train... found 481 images in 2 classes ✅ \n",
            "\u001b[34m\u001b[1mval:\u001b[0m /content/output_dir/2025-06-12_5-Fold/fold_2/val... found 120 images in 2 classes ✅ \n",
            "\u001b[34m\u001b[1mtest:\u001b[0m None...\n"
          ]
        },
        {
          "output_type": "stream",
          "name": "stderr",
          "text": [
            "               classes   top1_acc   top5_acc: 100%|██████████| 4/4 [00:00<00:00, 10.69it/s]\n"
          ]
        },
        {
          "output_type": "stream",
          "name": "stdout",
          "text": [
            "                   all      0.983          1\n",
            "Speed: 0.2ms preprocess, 1.7ms inference, 0.0ms loss, 0.0ms postprocess per image\n",
            "Results saved to \u001b[1mruns/kfold_wheat_leaf_rust/fold_2\u001b[0m\n",
            "\n",
            "── Training fold 3/5 ──\n",
            "Ultralytics 8.3.154 🚀 Python-3.10.12 torch-2.5.1+cu121 CUDA:0 (NVIDIA A100-SXM4-40GB, 40442MiB)\n",
            "\u001b[34m\u001b[1mengine/trainer: \u001b[0magnostic_nms=False, amp=True, augment=False, auto_augment=randaugment, batch=16, bgr=0.0, box=7.5, cache=False, cfg=None, classes=None, close_mosaic=10, cls=0.5, conf=None, copy_paste=0.0, copy_paste_mode=flip, cos_lr=False, cutmix=0.0, data=/content/output_dir/2025-06-12_5-Fold/fold_3, degrees=0.0, deterministic=True, device=None, dfl=1.5, dnn=False, dropout=0.0, dynamic=False, embed=None, epochs=12, erasing=0.4, exist_ok=False, fliplr=0.5, flipud=0.0, format=torchscript, fraction=1.0, freeze=None, half=False, hsv_h=0.015, hsv_s=0.7, hsv_v=0.4, imgsz=224, int8=False, iou=0.7, keras=False, kobj=1.0, line_width=None, lr0=0.01, lrf=0.01, mask_ratio=4, max_det=300, mixup=0.0, mode=train, model=yolov8n-cls.pt, momentum=0.937, mosaic=1.0, multi_scale=False, name=fold_3, nbs=64, nms=False, opset=None, optimize=False, optimizer=auto, overlap_mask=True, patience=100, perspective=0.0, plots=True, pose=12.0, pretrained=True, profile=False, project=runs/kfold_wheat_leaf_rust, rect=False, resume=False, retina_masks=False, save=True, save_conf=False, save_crop=False, save_dir=runs/kfold_wheat_leaf_rust/fold_3, save_frames=False, save_json=False, save_period=-1, save_txt=False, scale=0.5, seed=0, shear=0.0, show=False, show_boxes=True, show_conf=True, show_labels=True, simplify=True, single_cls=False, source=None, split=val, stream_buffer=False, task=classify, time=None, tracker=botsort.yaml, translate=0.1, val=True, verbose=True, vid_stride=1, visualize=False, warmup_bias_lr=0.1, warmup_epochs=3.0, warmup_momentum=0.8, weight_decay=0.0005, workers=8, workspace=None\n",
            "\u001b[34m\u001b[1mtrain:\u001b[0m /content/output_dir/2025-06-12_5-Fold/fold_3/train... found 481 images in 2 classes ✅ \n",
            "\u001b[34m\u001b[1mval:\u001b[0m /content/output_dir/2025-06-12_5-Fold/fold_3/val... found 120 images in 2 classes ✅ \n",
            "\u001b[34m\u001b[1mtest:\u001b[0m None...\n",
            "Overriding model.yaml nc=1000 with nc=2\n",
            "\n",
            "                   from  n    params  module                                       arguments                     \n",
            "  0                  -1  1       464  ultralytics.nn.modules.conv.Conv             [3, 16, 3, 2]                 \n",
            "  1                  -1  1      4672  ultralytics.nn.modules.conv.Conv             [16, 32, 3, 2]                \n",
            "  2                  -1  1      7360  ultralytics.nn.modules.block.C2f             [32, 32, 1, True]             \n",
            "  3                  -1  1     18560  ultralytics.nn.modules.conv.Conv             [32, 64, 3, 2]                \n",
            "  4                  -1  2     49664  ultralytics.nn.modules.block.C2f             [64, 64, 2, True]             \n",
            "  5                  -1  1     73984  ultralytics.nn.modules.conv.Conv             [64, 128, 3, 2]               \n",
            "  6                  -1  2    197632  ultralytics.nn.modules.block.C2f             [128, 128, 2, True]           \n",
            "  7                  -1  1    295424  ultralytics.nn.modules.conv.Conv             [128, 256, 3, 2]              \n",
            "  8                  -1  1    460288  ultralytics.nn.modules.block.C2f             [256, 256, 1, True]           \n",
            "  9                  -1  1    332802  ultralytics.nn.modules.head.Classify         [256, 2]                      \n",
            "YOLOv8n-cls summary: 56 layers, 1,440,850 parameters, 1,440,850 gradients, 3.4 GFLOPs\n",
            "Transferred 156/158 items from pretrained weights\n",
            "\u001b[34m\u001b[1mAMP: \u001b[0mrunning Automatic Mixed Precision (AMP) checks...\n",
            "\u001b[34m\u001b[1mAMP: \u001b[0mchecks passed ✅\n",
            "\u001b[34m\u001b[1mtrain: \u001b[0mFast image access ✅ (ping: 0.0±0.0 ms, read: 2981.7±755.7 MB/s, size: 391.5 KB)\n"
          ]
        },
        {
          "output_type": "stream",
          "name": "stderr",
          "text": [
            "\u001b[34m\u001b[1mtrain: \u001b[0mScanning /content/output_dir/2025-06-12_5-Fold/fold_3/train... 481 images, 0 corrupt: 100%|██████████| 481/481 [00:00<00:00, 3096.09it/s]"
          ]
        },
        {
          "output_type": "stream",
          "name": "stdout",
          "text": [
            "\u001b[34m\u001b[1mtrain: \u001b[0mNew cache created: /content/output_dir/2025-06-12_5-Fold/fold_3/train.cache\n"
          ]
        },
        {
          "output_type": "stream",
          "name": "stderr",
          "text": [
            "\n"
          ]
        },
        {
          "output_type": "stream",
          "name": "stdout",
          "text": [
            "\u001b[34m\u001b[1mval: \u001b[0mFast image access ✅ (ping: 0.0±0.0 ms, read: 1651.0±1433.9 MB/s, size: 393.7 KB)\n"
          ]
        },
        {
          "output_type": "stream",
          "name": "stderr",
          "text": [
            "\u001b[34m\u001b[1mval: \u001b[0mScanning /content/output_dir/2025-06-12_5-Fold/fold_3/val... 120 images, 0 corrupt: 100%|██████████| 120/120 [00:00<00:00, 2286.23it/s]"
          ]
        },
        {
          "output_type": "stream",
          "name": "stdout",
          "text": [
            "\u001b[34m\u001b[1mval: \u001b[0mNew cache created: /content/output_dir/2025-06-12_5-Fold/fold_3/val.cache\n"
          ]
        },
        {
          "output_type": "stream",
          "name": "stderr",
          "text": [
            "\n"
          ]
        },
        {
          "output_type": "stream",
          "name": "stdout",
          "text": [
            "\u001b[34m\u001b[1moptimizer:\u001b[0m 'optimizer=auto' found, ignoring 'lr0=0.01' and 'momentum=0.937' and determining best 'optimizer', 'lr0' and 'momentum' automatically... \n",
            "\u001b[34m\u001b[1moptimizer:\u001b[0m AdamW(lr=0.001667, momentum=0.9) with parameter groups 26 weight(decay=0.0), 27 weight(decay=0.0005), 27 bias(decay=0.0)\n",
            "Image sizes 224 train, 224 val\n",
            "Using 8 dataloader workers\n",
            "Logging results to \u001b[1mruns/kfold_wheat_leaf_rust/fold_3\u001b[0m\n",
            "Starting training for 12 epochs...\n",
            "\n",
            "      Epoch    GPU_mem       loss  Instances       Size\n"
          ]
        },
        {
          "output_type": "stream",
          "name": "stderr",
          "text": [
            "       1/12     0.236G      0.679         16        224:   3%|▎         | 1/31 [00:00<00:27,  1.07it/s]Thread-116 (plot_images):\n",
            "Traceback (most recent call last):\n",
            "  File \"/usr/lib/python3.10/threading.py\", line 1016, in _bootstrap_inner\n",
            "    self.run()\n",
            "  File \"/usr/lib/python3.10/threading.py\", line 953, in run\n",
            "    self._target(*self._args, **self._kwargs)\n",
            "TypeError: plot_images() got an unexpected keyword argument 'batch_idx'\n",
            "       1/12     0.256G     0.6787         16        224:   6%|▋         | 2/31 [00:01<00:13,  2.18it/s]Thread-117 (plot_images):\n",
            "Traceback (most recent call last):\n",
            "  File \"/usr/lib/python3.10/threading.py\", line 1016, in _bootstrap_inner\n",
            "    self.run()\n",
            "  File \"/usr/lib/python3.10/threading.py\", line 953, in run\n",
            "    self._target(*self._args, **self._kwargs)\n",
            "TypeError: plot_images() got an unexpected keyword argument 'batch_idx'\n",
            "       1/12     0.264G     0.6765         16        224:  10%|▉         | 3/31 [00:01<00:08,  3.34it/s]:\n",
            "Traceback (most recent call last):\n",
            "  File \"/usr/lib/python3.10/threading.py\", line 1016, in _bootstrap_inner\n",
            "    self.run()\n",
            "  File \"/usr/lib/python3.10/threading.py\", line 953, in run\n",
            "    self._target(*self._args, **self._kwargs)\n",
            "TypeError: plot_images() got an unexpected keyword argument 'batch_idx'\n",
            "       1/12     0.266G      0.521          1        224: 100%|██████████| 31/31 [00:07<00:00,  4.37it/s]\n",
            "               classes   top1_acc   top5_acc: 100%|██████████| 4/4 [00:00<00:00, 35.78it/s]"
          ]
        },
        {
          "output_type": "stream",
          "name": "stdout",
          "text": [
            "                   all      0.975          1\n"
          ]
        },
        {
          "output_type": "stream",
          "name": "stderr",
          "text": [
            "\n"
          ]
        },
        {
          "output_type": "stream",
          "name": "stdout",
          "text": [
            "\n",
            "      Epoch    GPU_mem       loss  Instances       Size\n"
          ]
        },
        {
          "output_type": "stream",
          "name": "stderr",
          "text": [
            "       2/12     0.266G     0.2496          1        224: 100%|██████████| 31/31 [00:05<00:00,  6.05it/s]\n",
            "               classes   top1_acc   top5_acc: 100%|██████████| 4/4 [00:00<00:00, 75.47it/s]"
          ]
        },
        {
          "output_type": "stream",
          "name": "stdout",
          "text": [
            "                   all          1          1\n"
          ]
        },
        {
          "output_type": "stream",
          "name": "stderr",
          "text": [
            "\n"
          ]
        },
        {
          "output_type": "stream",
          "name": "stdout",
          "text": [
            "\n",
            "      Epoch    GPU_mem       loss  Instances       Size\n"
          ]
        },
        {
          "output_type": "stream",
          "name": "stderr",
          "text": [
            "       3/12     0.266G     0.1148         16        224:   0%|          | 0/31 [00:00<?, ?it/s]Exception in thread Thread-120 (plot_images):\n",
            "Traceback (most recent call last):\n",
            "  File \"/usr/lib/python3.10/threading.py\", line 1016, in _bootstrap_inner\n",
            "    self.run()\n",
            "  File \"/usr/lib/python3.10/threading.py\", line 953, in run\n",
            "    self._target(*self._args, **self._kwargs)\n",
            "       3/12     0.266G     0.1148         16        224:   3%|▎         | 1/31 [00:00<00:03,  9.14it/s]\n",
            "       3/12     0.266G     0.1068         16        224:   6%|▋         | 2/31 [00:00<00:06,  4.29it/s]Thread-121 (plot_images):\n",
            "Traceback (most recent call last):\n",
            "  File \"/usr/lib/python3.10/threading.py\", line 1016, in _bootstrap_inner\n",
            "    self.run()\n",
            "  File \"/usr/lib/python3.10/threading.py\", line 953, in run\n",
            "    self._target(*self._args, **self._kwargs)\n",
            "TypeError: plot_images() got an unexpected keyword argument 'batch_idx'\n",
            "       3/12     0.266G     0.1339         16        224:   6%|▋         | 2/31 [00:00<00:06,  4.29it/s]Exception in thread Thread-122 (plot_images):\n",
            "Traceback (most recent call last):\n",
            "  File \"/usr/lib/python3.10/threading.py\", line 1016, in _bootstrap_inner\n",
            "    self.run()\n",
            "  File \"/usr/lib/python3.10/threading.py\", line 953, in run\n",
            "    self._target(*self._args, **self._kwargs)\n",
            "TypeError: plot_images() got an unexpected keyword argument 'batch_idx'\n",
            "       3/12     0.266G     0.2815          1        224: 100%|██████████| 31/31 [00:04<00:00,  7.25it/s]\n",
            "               classes   top1_acc   top5_acc: 100%|██████████| 4/4 [00:00<00:00, 79.98it/s]"
          ]
        },
        {
          "output_type": "stream",
          "name": "stdout",
          "text": [
            "                   all          1          1\n"
          ]
        },
        {
          "output_type": "stream",
          "name": "stderr",
          "text": [
            "\n"
          ]
        },
        {
          "output_type": "stream",
          "name": "stdout",
          "text": [
            "\n",
            "      Epoch    GPU_mem       loss  Instances       Size\n"
          ]
        },
        {
          "output_type": "stream",
          "name": "stderr",
          "text": [
            "       4/12     0.268G     0.1838          1        224: 100%|██████████| 31/31 [00:04<00:00,  7.29it/s]\n",
            "               classes   top1_acc   top5_acc: 100%|██████████| 4/4 [00:00<00:00, 66.73it/s]"
          ]
        },
        {
          "output_type": "stream",
          "name": "stdout",
          "text": [
            "                   all          1          1\n"
          ]
        },
        {
          "output_type": "stream",
          "name": "stderr",
          "text": [
            "\n"
          ]
        },
        {
          "output_type": "stream",
          "name": "stdout",
          "text": [
            "\n",
            "      Epoch    GPU_mem       loss  Instances       Size\n"
          ]
        },
        {
          "output_type": "stream",
          "name": "stderr",
          "text": [
            "       5/12     0.268G     0.1458          1        224: 100%|██████████| 31/31 [00:04<00:00,  6.54it/s]\n",
            "               classes   top1_acc   top5_acc: 100%|██████████| 4/4 [00:00<00:00, 72.02it/s]"
          ]
        },
        {
          "output_type": "stream",
          "name": "stdout",
          "text": [
            "                   all          1          1\n"
          ]
        },
        {
          "output_type": "stream",
          "name": "stderr",
          "text": [
            "\n"
          ]
        },
        {
          "output_type": "stream",
          "name": "stdout",
          "text": [
            "\n",
            "      Epoch    GPU_mem       loss  Instances       Size\n"
          ]
        },
        {
          "output_type": "stream",
          "name": "stderr",
          "text": [
            "       6/12     0.268G     0.1985          1        224: 100%|██████████| 31/31 [00:04<00:00,  7.09it/s]\n",
            "               classes   top1_acc   top5_acc: 100%|██████████| 4/4 [00:00<00:00, 76.18it/s]"
          ]
        },
        {
          "output_type": "stream",
          "name": "stdout",
          "text": [
            "                   all          1          1\n"
          ]
        },
        {
          "output_type": "stream",
          "name": "stderr",
          "text": [
            "\n"
          ]
        },
        {
          "output_type": "stream",
          "name": "stdout",
          "text": [
            "\n",
            "      Epoch    GPU_mem       loss  Instances       Size\n"
          ]
        },
        {
          "output_type": "stream",
          "name": "stderr",
          "text": [
            "       7/12     0.268G     0.1234          1        224: 100%|██████████| 31/31 [00:04<00:00,  6.90it/s]\n",
            "               classes   top1_acc   top5_acc: 100%|██████████| 4/4 [00:00<00:00, 73.63it/s]"
          ]
        },
        {
          "output_type": "stream",
          "name": "stdout",
          "text": [
            "                   all          1          1\n"
          ]
        },
        {
          "output_type": "stream",
          "name": "stderr",
          "text": [
            "\n"
          ]
        },
        {
          "output_type": "stream",
          "name": "stdout",
          "text": [
            "\n",
            "      Epoch    GPU_mem       loss  Instances       Size\n"
          ]
        },
        {
          "output_type": "stream",
          "name": "stderr",
          "text": [
            "       8/12     0.268G    0.09829          1        224: 100%|██████████| 31/31 [00:04<00:00,  7.19it/s]\n",
            "               classes   top1_acc   top5_acc: 100%|██████████| 4/4 [00:00<00:00, 57.97it/s]"
          ]
        },
        {
          "output_type": "stream",
          "name": "stdout",
          "text": [
            "                   all          1          1\n"
          ]
        },
        {
          "output_type": "stream",
          "name": "stderr",
          "text": [
            "\n"
          ]
        },
        {
          "output_type": "stream",
          "name": "stdout",
          "text": [
            "\n",
            "      Epoch    GPU_mem       loss  Instances       Size\n"
          ]
        },
        {
          "output_type": "stream",
          "name": "stderr",
          "text": [
            "       9/12     0.268G     0.1208          1        224: 100%|██████████| 31/31 [00:04<00:00,  6.68it/s]\n",
            "               classes   top1_acc   top5_acc: 100%|██████████| 4/4 [00:00<00:00, 73.37it/s]"
          ]
        },
        {
          "output_type": "stream",
          "name": "stdout",
          "text": [
            "                   all          1          1\n"
          ]
        },
        {
          "output_type": "stream",
          "name": "stderr",
          "text": [
            "\n"
          ]
        },
        {
          "output_type": "stream",
          "name": "stdout",
          "text": [
            "\n",
            "      Epoch    GPU_mem       loss  Instances       Size\n"
          ]
        },
        {
          "output_type": "stream",
          "name": "stderr",
          "text": [
            "      10/12     0.268G     0.0962          1        224: 100%|██████████| 31/31 [00:04<00:00,  6.34it/s]\n",
            "               classes   top1_acc   top5_acc: 100%|██████████| 4/4 [00:00<00:00, 72.00it/s]"
          ]
        },
        {
          "output_type": "stream",
          "name": "stdout",
          "text": [
            "                   all          1          1\n"
          ]
        },
        {
          "output_type": "stream",
          "name": "stderr",
          "text": [
            "\n"
          ]
        },
        {
          "output_type": "stream",
          "name": "stdout",
          "text": [
            "\n",
            "      Epoch    GPU_mem       loss  Instances       Size\n"
          ]
        },
        {
          "output_type": "stream",
          "name": "stderr",
          "text": [
            "      11/12     0.268G    0.08807          1        224: 100%|██████████| 31/31 [00:04<00:00,  6.80it/s]\n",
            "               classes   top1_acc   top5_acc: 100%|██████████| 4/4 [00:00<00:00, 76.26it/s]"
          ]
        },
        {
          "output_type": "stream",
          "name": "stdout",
          "text": [
            "                   all          1          1\n"
          ]
        },
        {
          "output_type": "stream",
          "name": "stderr",
          "text": [
            "\n"
          ]
        },
        {
          "output_type": "stream",
          "name": "stdout",
          "text": [
            "\n",
            "      Epoch    GPU_mem       loss  Instances       Size\n"
          ]
        },
        {
          "output_type": "stream",
          "name": "stderr",
          "text": [
            "      12/12     0.268G     0.1347          1        224: 100%|██████████| 31/31 [00:04<00:00,  7.11it/s]\n",
            "               classes   top1_acc   top5_acc: 100%|██████████| 4/4 [00:00<00:00, 78.57it/s]"
          ]
        },
        {
          "output_type": "stream",
          "name": "stdout",
          "text": [
            "                   all          1          1\n"
          ]
        },
        {
          "output_type": "stream",
          "name": "stderr",
          "text": [
            "\n"
          ]
        },
        {
          "output_type": "stream",
          "name": "stdout",
          "text": [
            "\n",
            "12 epochs completed in 0.018 hours.\n",
            "Optimizer stripped from runs/kfold_wheat_leaf_rust/fold_3/weights/last.pt, 3.0MB\n",
            "Optimizer stripped from runs/kfold_wheat_leaf_rust/fold_3/weights/best.pt, 3.0MB\n",
            "\n",
            "Validating runs/kfold_wheat_leaf_rust/fold_3/weights/best.pt...\n",
            "Ultralytics 8.3.154 🚀 Python-3.10.12 torch-2.5.1+cu121 CUDA:0 (NVIDIA A100-SXM4-40GB, 40442MiB)\n",
            "YOLOv8n-cls summary (fused): 30 layers, 1,437,442 parameters, 0 gradients, 3.3 GFLOPs\n",
            "\u001b[34m\u001b[1mtrain:\u001b[0m /content/output_dir/2025-06-12_5-Fold/fold_3/train... found 481 images in 2 classes ✅ \n",
            "\u001b[34m\u001b[1mval:\u001b[0m /content/output_dir/2025-06-12_5-Fold/fold_3/val... found 120 images in 2 classes ✅ \n",
            "\u001b[34m\u001b[1mtest:\u001b[0m None...\n"
          ]
        },
        {
          "output_type": "stream",
          "name": "stderr",
          "text": [
            "               classes   top1_acc   top5_acc: 100%|██████████| 4/4 [00:00<00:00,  9.81it/s]\n"
          ]
        },
        {
          "output_type": "stream",
          "name": "stdout",
          "text": [
            "                   all          1          1\n",
            "Speed: 0.1ms preprocess, 1.7ms inference, 0.0ms loss, 0.0ms postprocess per image\n",
            "Results saved to \u001b[1mruns/kfold_wheat_leaf_rust/fold_3\u001b[0m\n",
            "\n",
            "── Training fold 4/5 ──\n",
            "Ultralytics 8.3.154 🚀 Python-3.10.12 torch-2.5.1+cu121 CUDA:0 (NVIDIA A100-SXM4-40GB, 40442MiB)\n",
            "\u001b[34m\u001b[1mengine/trainer: \u001b[0magnostic_nms=False, amp=True, augment=False, auto_augment=randaugment, batch=16, bgr=0.0, box=7.5, cache=False, cfg=None, classes=None, close_mosaic=10, cls=0.5, conf=None, copy_paste=0.0, copy_paste_mode=flip, cos_lr=False, cutmix=0.0, data=/content/output_dir/2025-06-12_5-Fold/fold_4, degrees=0.0, deterministic=True, device=None, dfl=1.5, dnn=False, dropout=0.0, dynamic=False, embed=None, epochs=12, erasing=0.4, exist_ok=False, fliplr=0.5, flipud=0.0, format=torchscript, fraction=1.0, freeze=None, half=False, hsv_h=0.015, hsv_s=0.7, hsv_v=0.4, imgsz=224, int8=False, iou=0.7, keras=False, kobj=1.0, line_width=None, lr0=0.01, lrf=0.01, mask_ratio=4, max_det=300, mixup=0.0, mode=train, model=yolov8n-cls.pt, momentum=0.937, mosaic=1.0, multi_scale=False, name=fold_4, nbs=64, nms=False, opset=None, optimize=False, optimizer=auto, overlap_mask=True, patience=100, perspective=0.0, plots=True, pose=12.0, pretrained=True, profile=False, project=runs/kfold_wheat_leaf_rust, rect=False, resume=False, retina_masks=False, save=True, save_conf=False, save_crop=False, save_dir=runs/kfold_wheat_leaf_rust/fold_4, save_frames=False, save_json=False, save_period=-1, save_txt=False, scale=0.5, seed=0, shear=0.0, show=False, show_boxes=True, show_conf=True, show_labels=True, simplify=True, single_cls=False, source=None, split=val, stream_buffer=False, task=classify, time=None, tracker=botsort.yaml, translate=0.1, val=True, verbose=True, vid_stride=1, visualize=False, warmup_bias_lr=0.1, warmup_epochs=3.0, warmup_momentum=0.8, weight_decay=0.0005, workers=8, workspace=None\n",
            "\u001b[34m\u001b[1mtrain:\u001b[0m /content/output_dir/2025-06-12_5-Fold/fold_4/train... found 481 images in 2 classes ✅ \n",
            "\u001b[34m\u001b[1mval:\u001b[0m /content/output_dir/2025-06-12_5-Fold/fold_4/val... found 120 images in 2 classes ✅ \n",
            "\u001b[34m\u001b[1mtest:\u001b[0m None...\n",
            "Overriding model.yaml nc=1000 with nc=2\n",
            "\n",
            "                   from  n    params  module                                       arguments                     \n",
            "  0                  -1  1       464  ultralytics.nn.modules.conv.Conv             [3, 16, 3, 2]                 \n",
            "  1                  -1  1      4672  ultralytics.nn.modules.conv.Conv             [16, 32, 3, 2]                \n",
            "  2                  -1  1      7360  ultralytics.nn.modules.block.C2f             [32, 32, 1, True]             \n",
            "  3                  -1  1     18560  ultralytics.nn.modules.conv.Conv             [32, 64, 3, 2]                \n",
            "  4                  -1  2     49664  ultralytics.nn.modules.block.C2f             [64, 64, 2, True]             \n",
            "  5                  -1  1     73984  ultralytics.nn.modules.conv.Conv             [64, 128, 3, 2]               \n",
            "  6                  -1  2    197632  ultralytics.nn.modules.block.C2f             [128, 128, 2, True]           \n",
            "  7                  -1  1    295424  ultralytics.nn.modules.conv.Conv             [128, 256, 3, 2]              \n",
            "  8                  -1  1    460288  ultralytics.nn.modules.block.C2f             [256, 256, 1, True]           \n",
            "  9                  -1  1    332802  ultralytics.nn.modules.head.Classify         [256, 2]                      \n",
            "YOLOv8n-cls summary: 56 layers, 1,440,850 parameters, 1,440,850 gradients, 3.4 GFLOPs\n",
            "Transferred 156/158 items from pretrained weights\n",
            "\u001b[34m\u001b[1mAMP: \u001b[0mrunning Automatic Mixed Precision (AMP) checks...\n",
            "\u001b[34m\u001b[1mAMP: \u001b[0mchecks passed ✅\n",
            "\u001b[34m\u001b[1mtrain: \u001b[0mFast image access ✅ (ping: 0.0±0.0 ms, read: 3379.6±683.3 MB/s, size: 329.7 KB)\n"
          ]
        },
        {
          "output_type": "stream",
          "name": "stderr",
          "text": [
            "\u001b[34m\u001b[1mtrain: \u001b[0mScanning /content/output_dir/2025-06-12_5-Fold/fold_4/train... 481 images, 0 corrupt: 100%|██████████| 481/481 [00:00<00:00, 2881.63it/s]"
          ]
        },
        {
          "output_type": "stream",
          "name": "stdout",
          "text": [
            "\u001b[34m\u001b[1mtrain: \u001b[0mNew cache created: /content/output_dir/2025-06-12_5-Fold/fold_4/train.cache\n"
          ]
        },
        {
          "output_type": "stream",
          "name": "stderr",
          "text": [
            "\n"
          ]
        },
        {
          "output_type": "stream",
          "name": "stdout",
          "text": [
            "\u001b[34m\u001b[1mval: \u001b[0mFast image access ✅ (ping: 0.0±0.0 ms, read: 977.4±768.6 MB/s, size: 405.2 KB)\n"
          ]
        },
        {
          "output_type": "stream",
          "name": "stderr",
          "text": [
            "\u001b[34m\u001b[1mval: \u001b[0mScanning /content/output_dir/2025-06-12_5-Fold/fold_4/val... 120 images, 0 corrupt: 100%|██████████| 120/120 [00:00<00:00, 2355.02it/s]"
          ]
        },
        {
          "output_type": "stream",
          "name": "stdout",
          "text": [
            "\u001b[34m\u001b[1mval: \u001b[0mNew cache created: /content/output_dir/2025-06-12_5-Fold/fold_4/val.cache\n"
          ]
        },
        {
          "output_type": "stream",
          "name": "stderr",
          "text": [
            "\n"
          ]
        },
        {
          "output_type": "stream",
          "name": "stdout",
          "text": [
            "\u001b[34m\u001b[1moptimizer:\u001b[0m 'optimizer=auto' found, ignoring 'lr0=0.01' and 'momentum=0.937' and determining best 'optimizer', 'lr0' and 'momentum' automatically... \n",
            "\u001b[34m\u001b[1moptimizer:\u001b[0m AdamW(lr=0.001667, momentum=0.9) with parameter groups 26 weight(decay=0.0), 27 weight(decay=0.0005), 27 bias(decay=0.0)\n",
            "Image sizes 224 train, 224 val\n",
            "Using 8 dataloader workers\n",
            "Logging results to \u001b[1mruns/kfold_wheat_leaf_rust/fold_4\u001b[0m\n",
            "Starting training for 12 epochs...\n",
            "\n",
            "      Epoch    GPU_mem       loss  Instances       Size\n"
          ]
        },
        {
          "output_type": "stream",
          "name": "stderr",
          "text": [
            "       1/12     0.236G     0.6444         16        224:   3%|▎         | 1/31 [00:01<00:32,  1.09s/it]Thread-154 (plot_images):\n",
            "Traceback (most recent call last):\n",
            "  File \"/usr/lib/python3.10/threading.py\", line 1016, in _bootstrap_inner\n",
            "    self.run()\n",
            "  File \"/usr/lib/python3.10/threading.py\", line 953, in run\n",
            "    self._target(*self._args, **self._kwargs)\n",
            "TypeError: plot_images() got an unexpected keyword argument 'batch_idx'\n",
            "       1/12     0.256G     0.6952         16        224:   6%|▋         | 2/31 [00:01<00:15,  1.92it/s]:\n",
            "Traceback (most recent call last):\n",
            "  File \"/usr/lib/python3.10/threading.py\", line 1016, in _bootstrap_inner\n",
            "    self.run()\n",
            "  File \"/usr/lib/python3.10/threading.py\", line 953, in run\n",
            "    self._target(*self._args, **self._kwargs)\n",
            "TypeError: plot_images() got an unexpected keyword argument 'batch_idx'\n",
            "       1/12     0.264G     0.6945         16        224:  10%|▉         | 3/31 [00:01<00:09,  3.03it/s]Thread-156 (plot_images):\n",
            "Traceback (most recent call last):\n",
            "  File \"/usr/lib/python3.10/threading.py\", line 1016, in _bootstrap_inner\n",
            "    self.run()\n",
            "  File \"/usr/lib/python3.10/threading.py\", line 953, in run\n",
            "    self._target(*self._args, **self._kwargs)\n",
            "TypeError: plot_images() got an unexpected keyword argument 'batch_idx'\n",
            "       1/12     0.266G      0.508          1        224: 100%|██████████| 31/31 [00:07<00:00,  4.04it/s]\n",
            "               classes   top1_acc   top5_acc: 100%|██████████| 4/4 [00:00<00:00, 69.48it/s]"
          ]
        },
        {
          "output_type": "stream",
          "name": "stdout",
          "text": [
            "                   all      0.967          1\n"
          ]
        },
        {
          "output_type": "stream",
          "name": "stderr",
          "text": [
            "\n"
          ]
        },
        {
          "output_type": "stream",
          "name": "stdout",
          "text": [
            "\n",
            "      Epoch    GPU_mem       loss  Instances       Size\n"
          ]
        },
        {
          "output_type": "stream",
          "name": "stderr",
          "text": [
            "       2/12     0.266G     0.2257          1        224: 100%|██████████| 31/31 [00:04<00:00,  6.27it/s]\n",
            "               classes   top1_acc   top5_acc: 100%|██████████| 4/4 [00:00<00:00, 72.46it/s]"
          ]
        },
        {
          "output_type": "stream",
          "name": "stdout",
          "text": [
            "                   all      0.992          1\n"
          ]
        },
        {
          "output_type": "stream",
          "name": "stderr",
          "text": [
            "\n"
          ]
        },
        {
          "output_type": "stream",
          "name": "stdout",
          "text": [
            "\n",
            "      Epoch    GPU_mem       loss  Instances       Size\n"
          ]
        },
        {
          "output_type": "stream",
          "name": "stderr",
          "text": [
            "       3/12     0.266G     0.3249         16        224:   3%|▎         | 1/31 [00:00<00:14,  2.14it/s]Thread-158 (plot_images):\n",
            "Traceback (most recent call last):\n",
            "  File \"/usr/lib/python3.10/threading.py\", line 1016, in _bootstrap_inner\n",
            "    self.run()\n",
            "  File \"/usr/lib/python3.10/threading.py\", line 953, in run\n",
            "    self._target(*self._args, **self._kwargs)\n",
            "TypeError: plot_images() got an unexpected keyword argument 'batch_idx'\n",
            "       3/12     0.266G     0.3461         16        224:   3%|▎         | 1/31 [00:00<00:14,  2.14it/s]Exception in thread Thread-159 (plot_images):\n",
            "Traceback (most recent call last):\n",
            "  File \"/usr/lib/python3.10/threading.py\", line 1016, in _bootstrap_inner\n",
            "    self.run()\n",
            "  File \"/usr/lib/python3.10/threading.py\", line 953, in run\n",
            "    self._target(*self._args, **self._kwargs)\n",
            "TypeError: plot_images() got an unexpected keyword argument 'batch_idx'\n",
            "       3/12     0.266G     0.3226         16        224:  10%|▉         | 3/31 [00:00<00:04,  6.28it/s]Thread-160 (plot_images):\n",
            "Traceback (most recent call last):\n",
            "  File \"/usr/lib/python3.10/threading.py\", line 1016, in _bootstrap_inner\n",
            "    self.run()\n",
            "  File \"/usr/lib/python3.10/threading.py\", line 953, in run\n",
            "    self._target(*self._args, **self._kwargs)\n",
            "TypeError: plot_images() got an unexpected keyword argument 'batch_idx'\n",
            "       3/12     0.266G     0.2966          1        224: 100%|██████████| 31/31 [00:04<00:00,  6.82it/s]\n",
            "               classes   top1_acc   top5_acc: 100%|██████████| 4/4 [00:00<00:00, 65.03it/s]"
          ]
        },
        {
          "output_type": "stream",
          "name": "stdout",
          "text": [
            "                   all      0.992          1\n"
          ]
        },
        {
          "output_type": "stream",
          "name": "stderr",
          "text": [
            "\n"
          ]
        },
        {
          "output_type": "stream",
          "name": "stdout",
          "text": [
            "\n",
            "      Epoch    GPU_mem       loss  Instances       Size\n"
          ]
        },
        {
          "output_type": "stream",
          "name": "stderr",
          "text": [
            "       4/12     0.266G     0.1828          1        224: 100%|██████████| 31/31 [00:04<00:00,  6.47it/s]\n",
            "               classes   top1_acc   top5_acc: 100%|██████████| 4/4 [00:00<00:00, 73.27it/s]"
          ]
        },
        {
          "output_type": "stream",
          "name": "stdout",
          "text": [
            "                   all          1          1\n"
          ]
        },
        {
          "output_type": "stream",
          "name": "stderr",
          "text": [
            "\n"
          ]
        },
        {
          "output_type": "stream",
          "name": "stdout",
          "text": [
            "\n",
            "      Epoch    GPU_mem       loss  Instances       Size\n"
          ]
        },
        {
          "output_type": "stream",
          "name": "stderr",
          "text": [
            "       5/12     0.266G     0.1717          1        224: 100%|██████████| 31/31 [00:04<00:00,  7.51it/s]\n",
            "               classes   top1_acc   top5_acc: 100%|██████████| 4/4 [00:00<00:00, 63.04it/s]"
          ]
        },
        {
          "output_type": "stream",
          "name": "stdout",
          "text": [
            "                   all          1          1\n"
          ]
        },
        {
          "output_type": "stream",
          "name": "stderr",
          "text": [
            "\n"
          ]
        },
        {
          "output_type": "stream",
          "name": "stdout",
          "text": [
            "\n",
            "      Epoch    GPU_mem       loss  Instances       Size\n"
          ]
        },
        {
          "output_type": "stream",
          "name": "stderr",
          "text": [
            "       6/12     0.266G     0.1689          1        224: 100%|██████████| 31/31 [00:04<00:00,  6.28it/s]\n",
            "               classes   top1_acc   top5_acc: 100%|██████████| 4/4 [00:00<00:00, 66.85it/s]"
          ]
        },
        {
          "output_type": "stream",
          "name": "stdout",
          "text": [
            "                   all          1          1\n"
          ]
        },
        {
          "output_type": "stream",
          "name": "stderr",
          "text": [
            "\n"
          ]
        },
        {
          "output_type": "stream",
          "name": "stdout",
          "text": [
            "\n",
            "      Epoch    GPU_mem       loss  Instances       Size\n"
          ]
        },
        {
          "output_type": "stream",
          "name": "stderr",
          "text": [
            "       7/12     0.268G      0.145          1        224: 100%|██████████| 31/31 [00:04<00:00,  7.05it/s]\n",
            "               classes   top1_acc   top5_acc: 100%|██████████| 4/4 [00:00<00:00, 39.24it/s]"
          ]
        },
        {
          "output_type": "stream",
          "name": "stdout",
          "text": [
            "                   all          1          1\n"
          ]
        },
        {
          "output_type": "stream",
          "name": "stderr",
          "text": [
            "\n"
          ]
        },
        {
          "output_type": "stream",
          "name": "stdout",
          "text": [
            "\n",
            "      Epoch    GPU_mem       loss  Instances       Size\n"
          ]
        },
        {
          "output_type": "stream",
          "name": "stderr",
          "text": [
            "       8/12     0.268G     0.1127          1        224: 100%|██████████| 31/31 [00:04<00:00,  7.72it/s]\n",
            "               classes   top1_acc   top5_acc: 100%|██████████| 4/4 [00:00<00:00, 45.26it/s]"
          ]
        },
        {
          "output_type": "stream",
          "name": "stdout",
          "text": [
            "                   all          1          1\n"
          ]
        },
        {
          "output_type": "stream",
          "name": "stderr",
          "text": [
            "\n"
          ]
        },
        {
          "output_type": "stream",
          "name": "stdout",
          "text": [
            "\n",
            "      Epoch    GPU_mem       loss  Instances       Size\n"
          ]
        },
        {
          "output_type": "stream",
          "name": "stderr",
          "text": [
            "       9/12     0.268G     0.1432          1        224: 100%|██████████| 31/31 [00:04<00:00,  6.80it/s]\n",
            "               classes   top1_acc   top5_acc: 100%|██████████| 4/4 [00:00<00:00, 69.17it/s]"
          ]
        },
        {
          "output_type": "stream",
          "name": "stdout",
          "text": [
            "                   all          1          1\n"
          ]
        },
        {
          "output_type": "stream",
          "name": "stderr",
          "text": [
            "\n"
          ]
        },
        {
          "output_type": "stream",
          "name": "stdout",
          "text": [
            "\n",
            "      Epoch    GPU_mem       loss  Instances       Size\n"
          ]
        },
        {
          "output_type": "stream",
          "name": "stderr",
          "text": [
            "      10/12     0.268G     0.1138          1        224: 100%|██████████| 31/31 [00:04<00:00,  6.43it/s]\n",
            "               classes   top1_acc   top5_acc: 100%|██████████| 4/4 [00:00<00:00, 78.28it/s]"
          ]
        },
        {
          "output_type": "stream",
          "name": "stdout",
          "text": [
            "                   all          1          1\n"
          ]
        },
        {
          "output_type": "stream",
          "name": "stderr",
          "text": [
            "\n"
          ]
        },
        {
          "output_type": "stream",
          "name": "stdout",
          "text": [
            "\n",
            "      Epoch    GPU_mem       loss  Instances       Size\n"
          ]
        },
        {
          "output_type": "stream",
          "name": "stderr",
          "text": [
            "      11/12     0.268G    0.08895          1        224: 100%|██████████| 31/31 [00:04<00:00,  6.49it/s]\n",
            "               classes   top1_acc   top5_acc: 100%|██████████| 4/4 [00:00<00:00, 68.71it/s]"
          ]
        },
        {
          "output_type": "stream",
          "name": "stdout",
          "text": [
            "                   all          1          1\n"
          ]
        },
        {
          "output_type": "stream",
          "name": "stderr",
          "text": [
            "\n"
          ]
        },
        {
          "output_type": "stream",
          "name": "stdout",
          "text": [
            "\n",
            "      Epoch    GPU_mem       loss  Instances       Size\n"
          ]
        },
        {
          "output_type": "stream",
          "name": "stderr",
          "text": [
            "      12/12     0.268G     0.1997          1        224: 100%|██████████| 31/31 [00:04<00:00,  7.06it/s]\n",
            "               classes   top1_acc   top5_acc: 100%|██████████| 4/4 [00:00<00:00, 74.43it/s]"
          ]
        },
        {
          "output_type": "stream",
          "name": "stdout",
          "text": [
            "                   all          1          1\n"
          ]
        },
        {
          "output_type": "stream",
          "name": "stderr",
          "text": [
            "\n"
          ]
        },
        {
          "output_type": "stream",
          "name": "stdout",
          "text": [
            "\n",
            "12 epochs completed in 0.018 hours.\n",
            "Optimizer stripped from runs/kfold_wheat_leaf_rust/fold_4/weights/last.pt, 3.0MB\n",
            "Optimizer stripped from runs/kfold_wheat_leaf_rust/fold_4/weights/best.pt, 3.0MB\n",
            "\n",
            "Validating runs/kfold_wheat_leaf_rust/fold_4/weights/best.pt...\n",
            "Ultralytics 8.3.154 🚀 Python-3.10.12 torch-2.5.1+cu121 CUDA:0 (NVIDIA A100-SXM4-40GB, 40442MiB)\n",
            "YOLOv8n-cls summary (fused): 30 layers, 1,437,442 parameters, 0 gradients, 3.3 GFLOPs\n",
            "\u001b[34m\u001b[1mtrain:\u001b[0m /content/output_dir/2025-06-12_5-Fold/fold_4/train... found 481 images in 2 classes ✅ \n",
            "\u001b[34m\u001b[1mval:\u001b[0m /content/output_dir/2025-06-12_5-Fold/fold_4/val... found 120 images in 2 classes ✅ \n",
            "\u001b[34m\u001b[1mtest:\u001b[0m None...\n"
          ]
        },
        {
          "output_type": "stream",
          "name": "stderr",
          "text": [
            "               classes   top1_acc   top5_acc: 100%|██████████| 4/4 [00:00<00:00,  9.95it/s]\n"
          ]
        },
        {
          "output_type": "stream",
          "name": "stdout",
          "text": [
            "                   all          1          1\n",
            "Speed: 0.3ms preprocess, 1.9ms inference, 0.0ms loss, 0.0ms postprocess per image\n",
            "Results saved to \u001b[1mruns/kfold_wheat_leaf_rust/fold_4\u001b[0m\n",
            "\n",
            "── Training fold 5/5 ──\n",
            "Ultralytics 8.3.154 🚀 Python-3.10.12 torch-2.5.1+cu121 CUDA:0 (NVIDIA A100-SXM4-40GB, 40442MiB)\n",
            "\u001b[34m\u001b[1mengine/trainer: \u001b[0magnostic_nms=False, amp=True, augment=False, auto_augment=randaugment, batch=16, bgr=0.0, box=7.5, cache=False, cfg=None, classes=None, close_mosaic=10, cls=0.5, conf=None, copy_paste=0.0, copy_paste_mode=flip, cos_lr=False, cutmix=0.0, data=/content/output_dir/2025-06-12_5-Fold/fold_5, degrees=0.0, deterministic=True, device=None, dfl=1.5, dnn=False, dropout=0.0, dynamic=False, embed=None, epochs=12, erasing=0.4, exist_ok=False, fliplr=0.5, flipud=0.0, format=torchscript, fraction=1.0, freeze=None, half=False, hsv_h=0.015, hsv_s=0.7, hsv_v=0.4, imgsz=224, int8=False, iou=0.7, keras=False, kobj=1.0, line_width=None, lr0=0.01, lrf=0.01, mask_ratio=4, max_det=300, mixup=0.0, mode=train, model=yolov8n-cls.pt, momentum=0.937, mosaic=1.0, multi_scale=False, name=fold_5, nbs=64, nms=False, opset=None, optimize=False, optimizer=auto, overlap_mask=True, patience=100, perspective=0.0, plots=True, pose=12.0, pretrained=True, profile=False, project=runs/kfold_wheat_leaf_rust, rect=False, resume=False, retina_masks=False, save=True, save_conf=False, save_crop=False, save_dir=runs/kfold_wheat_leaf_rust/fold_5, save_frames=False, save_json=False, save_period=-1, save_txt=False, scale=0.5, seed=0, shear=0.0, show=False, show_boxes=True, show_conf=True, show_labels=True, simplify=True, single_cls=False, source=None, split=val, stream_buffer=False, task=classify, time=None, tracker=botsort.yaml, translate=0.1, val=True, verbose=True, vid_stride=1, visualize=False, warmup_bias_lr=0.1, warmup_epochs=3.0, warmup_momentum=0.8, weight_decay=0.0005, workers=8, workspace=None\n",
            "\u001b[34m\u001b[1mtrain:\u001b[0m /content/output_dir/2025-06-12_5-Fold/fold_5/train... found 481 images in 2 classes ✅ \n",
            "\u001b[34m\u001b[1mval:\u001b[0m /content/output_dir/2025-06-12_5-Fold/fold_5/val... found 120 images in 2 classes ✅ \n",
            "\u001b[34m\u001b[1mtest:\u001b[0m None...\n",
            "Overriding model.yaml nc=1000 with nc=2\n",
            "\n",
            "                   from  n    params  module                                       arguments                     \n",
            "  0                  -1  1       464  ultralytics.nn.modules.conv.Conv             [3, 16, 3, 2]                 \n",
            "  1                  -1  1      4672  ultralytics.nn.modules.conv.Conv             [16, 32, 3, 2]                \n",
            "  2                  -1  1      7360  ultralytics.nn.modules.block.C2f             [32, 32, 1, True]             \n",
            "  3                  -1  1     18560  ultralytics.nn.modules.conv.Conv             [32, 64, 3, 2]                \n",
            "  4                  -1  2     49664  ultralytics.nn.modules.block.C2f             [64, 64, 2, True]             \n",
            "  5                  -1  1     73984  ultralytics.nn.modules.conv.Conv             [64, 128, 3, 2]               \n",
            "  6                  -1  2    197632  ultralytics.nn.modules.block.C2f             [128, 128, 2, True]           \n",
            "  7                  -1  1    295424  ultralytics.nn.modules.conv.Conv             [128, 256, 3, 2]              \n",
            "  8                  -1  1    460288  ultralytics.nn.modules.block.C2f             [256, 256, 1, True]           \n",
            "  9                  -1  1    332802  ultralytics.nn.modules.head.Classify         [256, 2]                      \n",
            "YOLOv8n-cls summary: 56 layers, 1,440,850 parameters, 1,440,850 gradients, 3.4 GFLOPs\n",
            "Transferred 156/158 items from pretrained weights\n",
            "\u001b[34m\u001b[1mAMP: \u001b[0mrunning Automatic Mixed Precision (AMP) checks...\n",
            "\u001b[34m\u001b[1mAMP: \u001b[0mchecks passed ✅\n",
            "\u001b[34m\u001b[1mtrain: \u001b[0mFast image access ✅ (ping: 0.0±0.0 ms, read: 3204.0±630.3 MB/s, size: 394.3 KB)\n"
          ]
        },
        {
          "output_type": "stream",
          "name": "stderr",
          "text": [
            "\u001b[34m\u001b[1mtrain: \u001b[0mScanning /content/output_dir/2025-06-12_5-Fold/fold_5/train... 481 images, 0 corrupt: 100%|██████████| 481/481 [00:00<00:00, 3187.64it/s]"
          ]
        },
        {
          "output_type": "stream",
          "name": "stdout",
          "text": [
            "\u001b[34m\u001b[1mtrain: \u001b[0mNew cache created: /content/output_dir/2025-06-12_5-Fold/fold_5/train.cache\n"
          ]
        },
        {
          "output_type": "stream",
          "name": "stderr",
          "text": [
            "\n"
          ]
        },
        {
          "output_type": "stream",
          "name": "stdout",
          "text": [
            "\u001b[34m\u001b[1mval: \u001b[0mFast image access ✅ (ping: 0.0±0.0 ms, read: 2010.2±1312.6 MB/s, size: 361.3 KB)\n"
          ]
        },
        {
          "output_type": "stream",
          "name": "stderr",
          "text": [
            "\u001b[34m\u001b[1mval: \u001b[0mScanning /content/output_dir/2025-06-12_5-Fold/fold_5/val... 120 images, 0 corrupt: 100%|██████████| 120/120 [00:00<00:00, 2216.76it/s]"
          ]
        },
        {
          "output_type": "stream",
          "name": "stdout",
          "text": [
            "\u001b[34m\u001b[1mval: \u001b[0mNew cache created: /content/output_dir/2025-06-12_5-Fold/fold_5/val.cache\n"
          ]
        },
        {
          "output_type": "stream",
          "name": "stderr",
          "text": [
            "\n"
          ]
        },
        {
          "output_type": "stream",
          "name": "stdout",
          "text": [
            "\u001b[34m\u001b[1moptimizer:\u001b[0m 'optimizer=auto' found, ignoring 'lr0=0.01' and 'momentum=0.937' and determining best 'optimizer', 'lr0' and 'momentum' automatically... \n",
            "\u001b[34m\u001b[1moptimizer:\u001b[0m AdamW(lr=0.001667, momentum=0.9) with parameter groups 26 weight(decay=0.0), 27 weight(decay=0.0005), 27 bias(decay=0.0)\n",
            "Image sizes 224 train, 224 val\n",
            "Using 8 dataloader workers\n",
            "Logging results to \u001b[1mruns/kfold_wheat_leaf_rust/fold_5\u001b[0m\n",
            "Starting training for 12 epochs...\n",
            "\n",
            "      Epoch    GPU_mem       loss  Instances       Size\n"
          ]
        },
        {
          "output_type": "stream",
          "name": "stderr",
          "text": [
            "       1/12     0.236G     0.6439         16        224:   3%|▎         | 1/31 [00:00<00:28,  1.04it/s]Thread-192 (plot_images):\n",
            "Traceback (most recent call last):\n",
            "  File \"/usr/lib/python3.10/threading.py\", line 1016, in _bootstrap_inner\n",
            "    self.run()\n",
            "  File \"/usr/lib/python3.10/threading.py\", line 953, in run\n",
            "    self._target(*self._args, **self._kwargs)\n",
            "TypeError: plot_images() got an unexpected keyword argument 'batch_idx'\n",
            "       1/12     0.264G      0.691         16        224:   6%|▋         | 2/31 [00:01<00:13,  2.17it/s]Thread-193 (plot_images):\n",
            "Traceback (most recent call last):\n",
            "  File \"/usr/lib/python3.10/threading.py\", line 1016, in _bootstrap_inner\n",
            "    self.run()\n",
            "  File \"/usr/lib/python3.10/threading.py\", line 953, in run\n",
            "    self._target(*self._args, **self._kwargs)\n",
            "TypeError: plot_images() got an unexpected keyword argument 'batch_idx'\n",
            "       1/12     0.264G     0.6906         16        224:  10%|▉         | 3/31 [00:01<00:08,  3.28it/s]Thread-194 (plot_images):\n",
            "Traceback (most recent call last):\n",
            "  File \"/usr/lib/python3.10/threading.py\", line 1016, in _bootstrap_inner\n",
            "    self.run()\n",
            "  File \"/usr/lib/python3.10/threading.py\", line 953, in run\n",
            "    self._target(*self._args, **self._kwargs)\n",
            "TypeError: plot_images() got an unexpected keyword argument 'batch_idx'\n",
            "       1/12     0.266G     0.5066          1        224: 100%|██████████| 31/31 [00:07<00:00,  4.37it/s]\n",
            "               classes   top1_acc   top5_acc: 100%|██████████| 4/4 [00:00<00:00, 48.78it/s]"
          ]
        },
        {
          "output_type": "stream",
          "name": "stdout",
          "text": [
            "                   all       0.95          1\n"
          ]
        },
        {
          "output_type": "stream",
          "name": "stderr",
          "text": [
            "\n"
          ]
        },
        {
          "output_type": "stream",
          "name": "stdout",
          "text": [
            "\n",
            "      Epoch    GPU_mem       loss  Instances       Size\n"
          ]
        },
        {
          "output_type": "stream",
          "name": "stderr",
          "text": [
            "       2/12     0.266G     0.2257          1        224: 100%|██████████| 31/31 [00:05<00:00,  6.12it/s]\n",
            "               classes   top1_acc   top5_acc: 100%|██████████| 4/4 [00:00<00:00, 51.18it/s]"
          ]
        },
        {
          "output_type": "stream",
          "name": "stdout",
          "text": [
            "                   all      0.975          1\n"
          ]
        },
        {
          "output_type": "stream",
          "name": "stderr",
          "text": [
            "\n"
          ]
        },
        {
          "output_type": "stream",
          "name": "stdout",
          "text": [
            "\n",
            "      Epoch    GPU_mem       loss  Instances       Size\n"
          ]
        },
        {
          "output_type": "stream",
          "name": "stderr",
          "text": [
            "       3/12     0.266G     0.1847         16        224:   0%|          | 0/31 [00:00<?, ?it/s]Exception in thread Thread-196 (plot_images):\n",
            "Traceback (most recent call last):\n",
            "  File \"/usr/lib/python3.10/threading.py\", line 1016, in _bootstrap_inner\n",
            "    self.run()\n",
            "  File \"/usr/lib/python3.10/threading.py\", line 953, in run\n",
            "       3/12     0.266G     0.1847         16        224:   3%|▎         | 1/31 [00:00<00:07,  3.81it/s]    self._target(*self._args, **self._kwargs)\n",
            "TypeError: plot_images() got an unexpected keyword argument 'batch_idx'\n",
            "       3/12     0.266G     0.2174         16        224:   3%|▎         | 1/31 [00:00<00:07,  3.81it/s]Exception in thread Thread-197 (plot_images):\n",
            "Traceback (most recent call last):\n",
            "  File \"/usr/lib/python3.10/threading.py\", line 1016, in _bootstrap_inner\n",
            "    self.run()\n",
            "  File \"/usr/lib/python3.10/threading.py\", line 953, in run\n",
            "    self._target(*self._args, **self._kwargs)\n",
            "TypeError: plot_images() got an unexpected keyword argument 'batch_idx'\n",
            "       3/12     0.266G     0.1733         16        224:  10%|▉         | 3/31 [00:00<00:03,  9.33it/s]Thread-198 (plot_images):\n",
            "Traceback (most recent call last):\n",
            "  File \"/usr/lib/python3.10/threading.py\", line 1016, in _bootstrap_inner\n",
            "    self.run()\n",
            "  File \"/usr/lib/python3.10/threading.py\", line 953, in run\n",
            "    self._target(*self._args, **self._kwargs)\n",
            "TypeError: plot_images() got an unexpected keyword argument 'batch_idx'\n",
            "       3/12     0.268G     0.2198          1        224: 100%|██████████| 31/31 [00:04<00:00,  6.88it/s]\n",
            "               classes   top1_acc   top5_acc: 100%|██████████| 4/4 [00:00<00:00, 60.00it/s]"
          ]
        },
        {
          "output_type": "stream",
          "name": "stdout",
          "text": [
            "                   all      0.975          1\n"
          ]
        },
        {
          "output_type": "stream",
          "name": "stderr",
          "text": [
            "\n"
          ]
        },
        {
          "output_type": "stream",
          "name": "stdout",
          "text": [
            "\n",
            "      Epoch    GPU_mem       loss  Instances       Size\n"
          ]
        },
        {
          "output_type": "stream",
          "name": "stderr",
          "text": [
            "       4/12     0.268G     0.1938          1        224: 100%|██████████| 31/31 [00:04<00:00,  6.34it/s]\n",
            "               classes   top1_acc   top5_acc: 100%|██████████| 4/4 [00:00<00:00, 63.24it/s]"
          ]
        },
        {
          "output_type": "stream",
          "name": "stdout",
          "text": [
            "                   all      0.967          1\n"
          ]
        },
        {
          "output_type": "stream",
          "name": "stderr",
          "text": [
            "\n"
          ]
        },
        {
          "output_type": "stream",
          "name": "stdout",
          "text": [
            "\n",
            "      Epoch    GPU_mem       loss  Instances       Size\n"
          ]
        },
        {
          "output_type": "stream",
          "name": "stderr",
          "text": [
            "       5/12     0.268G     0.1263          1        224: 100%|██████████| 31/31 [00:04<00:00,  6.94it/s]\n",
            "               classes   top1_acc   top5_acc: 100%|██████████| 4/4 [00:00<00:00, 72.51it/s]"
          ]
        },
        {
          "output_type": "stream",
          "name": "stdout",
          "text": [
            "                   all      0.983          1\n"
          ]
        },
        {
          "output_type": "stream",
          "name": "stderr",
          "text": [
            "\n"
          ]
        },
        {
          "output_type": "stream",
          "name": "stdout",
          "text": [
            "\n",
            "      Epoch    GPU_mem       loss  Instances       Size\n"
          ]
        },
        {
          "output_type": "stream",
          "name": "stderr",
          "text": [
            "       6/12     0.268G     0.2152          1        224: 100%|██████████| 31/31 [00:04<00:00,  6.57it/s]\n",
            "               classes   top1_acc   top5_acc: 100%|██████████| 4/4 [00:00<00:00, 70.97it/s]"
          ]
        },
        {
          "output_type": "stream",
          "name": "stdout",
          "text": [
            "                   all      0.992          1\n"
          ]
        },
        {
          "output_type": "stream",
          "name": "stderr",
          "text": [
            "\n"
          ]
        },
        {
          "output_type": "stream",
          "name": "stdout",
          "text": [
            "\n",
            "      Epoch    GPU_mem       loss  Instances       Size\n"
          ]
        },
        {
          "output_type": "stream",
          "name": "stderr",
          "text": [
            "       7/12     0.268G    0.07639          1        224: 100%|██████████| 31/31 [00:04<00:00,  7.35it/s]\n",
            "               classes   top1_acc   top5_acc: 100%|██████████| 4/4 [00:00<00:00, 42.12it/s]"
          ]
        },
        {
          "output_type": "stream",
          "name": "stdout",
          "text": [
            "                   all      0.992          1\n"
          ]
        },
        {
          "output_type": "stream",
          "name": "stderr",
          "text": [
            "\n"
          ]
        },
        {
          "output_type": "stream",
          "name": "stdout",
          "text": [
            "\n",
            "      Epoch    GPU_mem       loss  Instances       Size\n"
          ]
        },
        {
          "output_type": "stream",
          "name": "stderr",
          "text": [
            "       8/12     0.268G    0.07829          1        224: 100%|██████████| 31/31 [00:04<00:00,  7.11it/s]\n",
            "               classes   top1_acc   top5_acc: 100%|██████████| 4/4 [00:00<00:00, 74.20it/s]"
          ]
        },
        {
          "output_type": "stream",
          "name": "stdout",
          "text": [
            "                   all      0.992          1\n"
          ]
        },
        {
          "output_type": "stream",
          "name": "stderr",
          "text": [
            "\n"
          ]
        },
        {
          "output_type": "stream",
          "name": "stdout",
          "text": [
            "\n",
            "      Epoch    GPU_mem       loss  Instances       Size\n"
          ]
        },
        {
          "output_type": "stream",
          "name": "stderr",
          "text": [
            "       9/12     0.268G     0.2176          1        224: 100%|██████████| 31/31 [00:04<00:00,  6.64it/s]\n",
            "               classes   top1_acc   top5_acc: 100%|██████████| 4/4 [00:00<00:00, 67.83it/s]"
          ]
        },
        {
          "output_type": "stream",
          "name": "stdout",
          "text": [
            "                   all          1          1\n"
          ]
        },
        {
          "output_type": "stream",
          "name": "stderr",
          "text": [
            "\n"
          ]
        },
        {
          "output_type": "stream",
          "name": "stdout",
          "text": [
            "\n",
            "      Epoch    GPU_mem       loss  Instances       Size\n"
          ]
        },
        {
          "output_type": "stream",
          "name": "stderr",
          "text": [
            "      10/12     0.268G     0.1038          1        224: 100%|██████████| 31/31 [00:04<00:00,  6.93it/s]\n",
            "               classes   top1_acc   top5_acc: 100%|██████████| 4/4 [00:00<00:00, 76.59it/s]"
          ]
        },
        {
          "output_type": "stream",
          "name": "stdout",
          "text": [
            "                   all      0.992          1\n"
          ]
        },
        {
          "output_type": "stream",
          "name": "stderr",
          "text": [
            "\n"
          ]
        },
        {
          "output_type": "stream",
          "name": "stdout",
          "text": [
            "\n",
            "      Epoch    GPU_mem       loss  Instances       Size\n"
          ]
        },
        {
          "output_type": "stream",
          "name": "stderr",
          "text": [
            "      11/12     0.268G     0.0835          1        224: 100%|██████████| 31/31 [00:04<00:00,  6.24it/s]\n",
            "               classes   top1_acc   top5_acc: 100%|██████████| 4/4 [00:00<00:00, 81.67it/s]"
          ]
        },
        {
          "output_type": "stream",
          "name": "stdout",
          "text": [
            "                   all      0.992          1\n"
          ]
        },
        {
          "output_type": "stream",
          "name": "stderr",
          "text": [
            "\n"
          ]
        },
        {
          "output_type": "stream",
          "name": "stdout",
          "text": [
            "\n",
            "      Epoch    GPU_mem       loss  Instances       Size\n"
          ]
        },
        {
          "output_type": "stream",
          "name": "stderr",
          "text": [
            "      12/12     0.268G     0.1309          1        224: 100%|██████████| 31/31 [00:05<00:00,  6.09it/s]\n",
            "               classes   top1_acc   top5_acc: 100%|██████████| 4/4 [00:00<00:00, 80.75it/s]"
          ]
        },
        {
          "output_type": "stream",
          "name": "stdout",
          "text": [
            "                   all      0.983          1\n"
          ]
        },
        {
          "output_type": "stream",
          "name": "stderr",
          "text": [
            "\n"
          ]
        },
        {
          "output_type": "stream",
          "name": "stdout",
          "text": [
            "\n",
            "12 epochs completed in 0.018 hours.\n",
            "Optimizer stripped from runs/kfold_wheat_leaf_rust/fold_5/weights/last.pt, 3.0MB\n",
            "Optimizer stripped from runs/kfold_wheat_leaf_rust/fold_5/weights/best.pt, 3.0MB\n",
            "\n",
            "Validating runs/kfold_wheat_leaf_rust/fold_5/weights/best.pt...\n",
            "Ultralytics 8.3.154 🚀 Python-3.10.12 torch-2.5.1+cu121 CUDA:0 (NVIDIA A100-SXM4-40GB, 40442MiB)\n",
            "YOLOv8n-cls summary (fused): 30 layers, 1,437,442 parameters, 0 gradients, 3.3 GFLOPs\n",
            "\u001b[34m\u001b[1mtrain:\u001b[0m /content/output_dir/2025-06-12_5-Fold/fold_5/train... found 481 images in 2 classes ✅ \n",
            "\u001b[34m\u001b[1mval:\u001b[0m /content/output_dir/2025-06-12_5-Fold/fold_5/val... found 120 images in 2 classes ✅ \n",
            "\u001b[34m\u001b[1mtest:\u001b[0m None...\n"
          ]
        },
        {
          "output_type": "stream",
          "name": "stderr",
          "text": [
            "               classes   top1_acc   top5_acc: 100%|██████████| 4/4 [00:00<00:00, 32.11it/s]\n"
          ]
        },
        {
          "output_type": "stream",
          "name": "stdout",
          "text": [
            "                   all          1          1\n",
            "Speed: 0.1ms preprocess, 0.5ms inference, 0.0ms loss, 0.0ms postprocess per image\n",
            "Results saved to \u001b[1mruns/kfold_wheat_leaf_rust/fold_5\u001b[0m\n",
            "\n",
            "✅ All folds trained!\n"
          ]
        }
      ]
    },
    {
      "cell_type": "code",
      "source": [
        "fold_names = list(results.keys())\n",
        "top1_scores = [results[f].results_dict['metrics/accuracy_top1'] for f in fold_names]\n",
        "top5_scores = [results[f].results_dict['metrics/accuracy_top5'] for f in fold_names]"
      ],
      "metadata": {
        "id": "PWuBwUVf_SMz"
      },
      "id": "PWuBwUVf_SMz",
      "execution_count": 23,
      "outputs": []
    },
    {
      "cell_type": "code",
      "source": [
        "summary_table = wandb.Table(columns=[\"fold\",\"top1_acc\",\"top5_acc\"])\n",
        "for f, t1, t5 in zip(fold_names, top1_scores, top5_scores):\n",
        "    summary_table.add_data(f, t1, t5)\n",
        "wandb.log({\"kfold_summary\": summary_table})"
      ],
      "metadata": {
        "id": "9I1IIhQm_Y2Y"
      },
      "id": "9I1IIhQm_Y2Y",
      "execution_count": 24,
      "outputs": []
    },
    {
      "cell_type": "code",
      "source": [
        "import numpy as np\n",
        "\n",
        "mean_top1, std_top1 = np.mean(top1_scores), np.std(top1_scores)\n",
        "mean_top5, std_top5 = np.mean(top5_scores), np.std(top5_scores)\n",
        "\n",
        "wandb.log({\n",
        "    \"kfold/mean_top1\": mean_top1,\n",
        "    \"kfold/std_top1\": std_top1,\n",
        "    \"kfold/mean_top5\": mean_top5,\n",
        "    \"kfold/std_top5\": std_top5\n",
        "})"
      ],
      "metadata": {
        "id": "fUrjKwBm_bif"
      },
      "id": "fUrjKwBm_bif",
      "execution_count": 25,
      "outputs": []
    },
    {
      "cell_type": "code",
      "source": [
        "best_idx = int(np.argmax(top1_scores))\n",
        "best_fold = fold_names[best_idx]\n",
        "print(f\"Best fold: {best_fold} (Top-1 = {top1_scores[best_idx]:.4f})\")\n",
        "wandb.log({\"kfold/best_fold\": best_fold, \"kfold/best_top1\": top1_scores[best_idx]})"
      ],
      "metadata": {
        "colab": {
          "base_uri": "https://localhost:8080/"
        },
        "id": "eMyimmyG_d53",
        "outputId": "147b4bf8-2170-4464-b881-27bea93913d5"
      },
      "id": "eMyimmyG_d53",
      "execution_count": 26,
      "outputs": [
        {
          "output_type": "stream",
          "name": "stdout",
          "text": [
            "Best fold: fold_1 (Top-1 = 1.0000)\n"
          ]
        }
      ]
    },
    {
      "cell_type": "code",
      "source": [
        "from torchvision import datasets\n",
        "from torch.utils.data import DataLoader"
      ],
      "metadata": {
        "id": "sX8Dg6Lw_gaT"
      },
      "id": "sX8Dg6Lw_gaT",
      "execution_count": 27,
      "outputs": []
    },
    {
      "cell_type": "code",
      "source": [
        "VAL_DIR = ROOT / \"val\"\n",
        "\n",
        "val_dataset = datasets.ImageFolder(root=str(VAL_DIR))\n",
        "val_loader = DataLoader(val_dataset, batch_size=16, shuffle=False)"
      ],
      "metadata": {
        "id": "tHYDUScz_ipA"
      },
      "id": "tHYDUScz_ipA",
      "execution_count": 28,
      "outputs": []
    },
    {
      "cell_type": "code",
      "source": [
        "model_validation = YOLO(f\"{PROJECT}/{best_fold}/weights/best.pt\")"
      ],
      "metadata": {
        "id": "HikKWaBZ_koh"
      },
      "id": "HikKWaBZ_koh",
      "execution_count": 29,
      "outputs": []
    },
    {
      "cell_type": "code",
      "source": [
        "# Run inference on val images\n",
        "from PIL import Image\n",
        "val_preds, val_gts = [], []\n",
        "val_images = []\n",
        "\n",
        "for img_path, gt in val_dataset.samples:\n",
        "    result = model.predict(img_path, imgsz=224, verbose=False)\n",
        "\n",
        "    pred = int(result[0].probs.top1)\n",
        "    val_preds.append(pred)\n",
        "    val_gts.append(gt)\n",
        "\n",
        "    if len(val_images) < 5:  # Save a few images for logging\n",
        "        img = Image.open(img_path).convert(\"RGB\")\n",
        "        val_images.append((img, gt, pred))"
      ],
      "metadata": {
        "id": "AoUaJG7Q_nhM"
      },
      "id": "AoUaJG7Q_nhM",
      "execution_count": 30,
      "outputs": []
    },
    {
      "cell_type": "code",
      "source": [
        "from sklearn.metrics import accuracy_score, confusion_matrix\n",
        "\n",
        "acc_val = accuracy_score(val_gts, val_preds)\n",
        "cm_val = confusion_matrix(val_gts, val_preds)\n",
        "auc_val = roc_auc_score(val_gts, [1 if p == 1 else 0 for p in val_preds])  # For binary class"
      ],
      "metadata": {
        "id": "1kxHCp3F_pn6"
      },
      "id": "1kxHCp3F_pn6",
      "execution_count": 31,
      "outputs": []
    },
    {
      "cell_type": "code",
      "source": [
        "import seaborn as sns\n",
        "plt.figure(figsize=(6, 5))\n",
        "sns.heatmap(cm_val, annot=True, fmt='d', cmap='Blues',\n",
        "            xticklabels=CLASSES, yticklabels=CLASSES)\n",
        "\n",
        "plt.xlabel('Predicted Label')\n",
        "plt.ylabel('True Label')\n",
        "plt.title('Confusion Matrix Validation')\n",
        "plt.savefig('Confusion Matrix Validation.png')\n",
        "plt.show()"
      ],
      "metadata": {
        "colab": {
          "base_uri": "https://localhost:8080/",
          "height": 487
        },
        "id": "zUyXuRNj_tzA",
        "outputId": "ce1eaf96-9fb7-4dd8-d007-323aae0c2412"
      },
      "id": "zUyXuRNj_tzA",
      "execution_count": 32,
      "outputs": [
        {
          "output_type": "display_data",
          "data": {
            "text/plain": [
              "<Figure size 600x500 with 2 Axes>"
            ],
            "image/png": "[encoded data removed]"
          },
          "metadata": {}
        }
      ]
    },
    {
      "cell_type": "code",
      "source": [
        "TEST_DIR = ROOT / \"test\"\n",
        "\n",
        "test_dataset = datasets.ImageFolder(root=str(TEST_DIR))\n",
        "test_loader = DataLoader(test_dataset, batch_size=16, shuffle=False)"
      ],
      "metadata": {
        "id": "1KYKyvn3_4-W"
      },
      "id": "1KYKyvn3_4-W",
      "execution_count": 33,
      "outputs": []
    },
    {
      "cell_type": "code",
      "source": [
        "model_eval = YOLO(f\"{PROJECT}/{best_fold}/weights/best.pt\")"
      ],
      "metadata": {
        "id": "I8u3olan_-BK"
      },
      "id": "I8u3olan_-BK",
      "execution_count": 34,
      "outputs": []
    },
    {
      "cell_type": "code",
      "source": [
        "# Run inference on test images\n",
        "from PIL import Image\n",
        "preds, gts = [], []\n",
        "test_images = []\n",
        "\n",
        "for img_path, gt in test_dataset.samples:\n",
        "    result = model.predict(img_path, imgsz=224, verbose=False)\n",
        "\n",
        "    pred = int(result[0].probs.top1)\n",
        "    preds.append(pred)\n",
        "    gts.append(gt)\n",
        "\n",
        "    if len(test_images) < 5:  # Save a few images for logging\n",
        "        img = Image.open(img_path).convert(\"RGB\")\n",
        "        test_images.append((img, gt, pred))"
      ],
      "metadata": {
        "id": "sZ3hKPVj___Q"
      },
      "id": "sZ3hKPVj___Q",
      "execution_count": 35,
      "outputs": []
    },
    {
      "cell_type": "code",
      "source": [
        "from sklearn.metrics import accuracy_score\n",
        "acc = accuracy_score(gts, preds)\n",
        "cm = confusion_matrix(gts, preds)\n",
        "auc = roc_auc_score(gts, [1 if p == 1 else 0 for p in preds])  # For binary class"
      ],
      "metadata": {
        "id": "YnO7KUaUACGY"
      },
      "id": "YnO7KUaUACGY",
      "execution_count": 36,
      "outputs": []
    },
    {
      "cell_type": "code",
      "source": [
        "import seaborn as sns\n",
        "plt.figure(figsize=(6, 5))\n",
        "sns.heatmap(cm, annot=True, fmt='d', cmap='Blues',\n",
        "            xticklabels=CLASSES, yticklabels=CLASSES)\n",
        "\n",
        "plt.xlabel('Predicted Label')\n",
        "plt.ylabel('True Label')\n",
        "plt.title('Confusion Matrix Test set')\n",
        "plt.savefig('Confusion Matrix Test.png')\n",
        "plt.show()"
      ],
      "metadata": {
        "colab": {
          "base_uri": "https://localhost:8080/",
          "height": 487
        },
        "id": "noAUjsN-AFFj",
        "outputId": "0c228b4d-d426-44d5-ad09-bb1bc3e37ad3"
      },
      "id": "noAUjsN-AFFj",
      "execution_count": 37,
      "outputs": [
        {
          "output_type": "display_data",
          "data": {
            "text/plain": [
              "<Figure size 600x500 with 2 Axes>"
            ],
            "image/png": "[encoded data removed]"
          },
          "metadata": {}
        }
      ]
    },
    {
      "cell_type": "code",
      "source": [
        "from sklearn.metrics import precision_score, recall_score, f1_score\n",
        "print(\"For the val set:\")\n",
        "print(f\"Accuracy: {acc_val}\")\n",
        "print(f\"Precision(weighted): {precision_score(val_gts, val_preds,average='weighted')}\")\n",
        "print(f\"Precision: {precision_score(val_gts, val_preds)}\")\n",
        "print(f\"Recall(weighted): {recall_score(val_gts, val_preds,average='weighted')}\")\n",
        "print(f\"Recall: {recall_score(val_gts, val_preds)}\")\n",
        "print(f\"F1 score(weighted): {f1_score(val_gts, val_preds,average='weighted')}\")\n",
        "print(f\"F1 score: {f1_score(val_gts, val_preds)}\")"
      ],
      "metadata": {
        "colab": {
          "base_uri": "https://localhost:8080/"
        },
        "id": "l1mO6KpgAivt",
        "outputId": "b98fdfd4-225e-451f-d49d-e68c5a2c54ff"
      },
      "id": "l1mO6KpgAivt",
      "execution_count": 38,
      "outputs": [
        {
          "output_type": "stream",
          "name": "stdout",
          "text": [
            "For the val set:\n",
            "Accuracy: 1.0\n",
            "Precision(weighted): 1.0\n",
            "Precision: 1.0\n",
            "Recall(weighted): 1.0\n",
            "Recall: 1.0\n",
            "F1 score(weighted): 1.0\n",
            "F1 score: 1.0\n"
          ]
        }
      ]
    },
    {
      "cell_type": "code",
      "source": [
        "from sklearn.metrics import precision_score, recall_score, f1_score\n",
        "print(\"For the test set:\")\n",
        "print(f\"Accuracy: {acc}\")\n",
        "print(f\"Precision(weighted): {precision_score(gts, preds,average='weighted')}\")\n",
        "print(f\"Precision: {precision_score(gts, preds)}\")\n",
        "print(f\"Recall(weighted): {recall_score(gts, preds,average='weighted')}\")\n",
        "print(f\"Recall: {recall_score(gts, preds)}\")\n",
        "print(f\"F1 score(weighted): {f1_score(gts, preds,average='weighted')}\")\n",
        "print(f\"F1 score: {f1_score(gts, preds)}\")"
      ],
      "metadata": {
        "colab": {
          "base_uri": "https://localhost:8080/"
        },
        "id": "g2CItHz9ATyg",
        "outputId": "8310d596-9c6e-4a12-8bd4-c79f0b184fc3"
      },
      "id": "g2CItHz9ATyg",
      "execution_count": 39,
      "outputs": [
        {
          "output_type": "stream",
          "name": "stdout",
          "text": [
            "For the test set:\n",
            "Accuracy: 0.9922480620155039\n",
            "Precision(weighted): 0.9923864894795127\n",
            "Precision: 0.9821428571428571\n",
            "Recall(weighted): 0.9922480620155039\n",
            "Recall: 1.0\n",
            "F1 score(weighted): 0.9922566135190719\n",
            "F1 score: 0.990990990990991\n"
          ]
        }
      ]
    },
    {
      "cell_type": "code",
      "source": [
        "print(f\"gts: {gts}\")\n",
        "print(f\"val_gts: {val_gts}\")\n",
        "print(f\"preds: {preds}\")\n",
        "print(f\"val_preds: {val_preds}\")"
      ],
      "metadata": {
        "colab": {
          "base_uri": "https://localhost:8080/"
        },
        "id": "1mptQ8ihAe5j",
        "outputId": "9c472f7b-de2a-48cf-f77f-d3c57fe1bbde"
      },
      "id": "1mptQ8ihAe5j",
      "execution_count": 40,
      "outputs": [
        {
          "output_type": "stream",
          "name": "stdout",
          "text": [
            "gts: [0, 0, 0, 0, 0, 0, 0, 0, 0, 0, 0, 0, 0, 0, 0, 0, 0, 0, 0, 0, 0, 0, 0, 0, 0, 0, 0, 0, 0, 0, 0, 0, 0, 0, 0, 0, 0, 0, 0, 0, 0, 0, 0, 0, 0, 0, 0, 0, 0, 0, 0, 0, 0, 0, 0, 0, 0, 0, 0, 0, 0, 0, 0, 0, 0, 0, 0, 0, 0, 0, 0, 0, 0, 0, 1, 1, 1, 1, 1, 1, 1, 1, 1, 1, 1, 1, 1, 1, 1, 1, 1, 1, 1, 1, 1, 1, 1, 1, 1, 1, 1, 1, 1, 1, 1, 1, 1, 1, 1, 1, 1, 1, 1, 1, 1, 1, 1, 1, 1, 1, 1, 1, 1, 1, 1, 1, 1, 1, 1]\n",
            "val_gts: [0, 0, 0, 0, 0, 0, 0, 0, 0, 0, 0, 0, 0, 0, 0, 0, 0, 0, 0, 0, 0, 0, 0, 0, 0, 0, 0, 0, 0, 0, 0, 0, 0, 0, 0, 0, 0, 0, 0, 0, 0, 0, 0, 0, 0, 0, 0, 0, 0, 0, 0, 0, 0, 0, 0, 0, 0, 0, 0, 0, 0, 0, 0, 0, 0, 0, 0, 0, 0, 0, 0, 0, 0, 0, 1, 1, 1, 1, 1, 1, 1, 1, 1, 1, 1, 1, 1, 1, 1, 1, 1, 1, 1, 1, 1, 1, 1, 1, 1, 1, 1, 1, 1, 1, 1, 1, 1, 1, 1, 1, 1, 1, 1, 1, 1, 1, 1, 1, 1, 1, 1, 1, 1, 1, 1, 1, 1, 1, 1]\n",
            "preds: [0, 0, 0, 0, 0, 0, 0, 0, 0, 0, 0, 0, 0, 0, 0, 0, 0, 0, 0, 0, 0, 0, 0, 0, 0, 0, 0, 0, 0, 0, 0, 0, 0, 0, 0, 0, 0, 0, 0, 0, 0, 0, 0, 0, 0, 0, 0, 0, 0, 0, 0, 0, 0, 0, 0, 0, 0, 0, 0, 0, 0, 0, 0, 0, 1, 0, 0, 0, 0, 0, 0, 0, 0, 0, 1, 1, 1, 1, 1, 1, 1, 1, 1, 1, 1, 1, 1, 1, 1, 1, 1, 1, 1, 1, 1, 1, 1, 1, 1, 1, 1, 1, 1, 1, 1, 1, 1, 1, 1, 1, 1, 1, 1, 1, 1, 1, 1, 1, 1, 1, 1, 1, 1, 1, 1, 1, 1, 1, 1]\n",
            "val_preds: [0, 0, 0, 0, 0, 0, 0, 0, 0, 0, 0, 0, 0, 0, 0, 0, 0, 0, 0, 0, 0, 0, 0, 0, 0, 0, 0, 0, 0, 0, 0, 0, 0, 0, 0, 0, 0, 0, 0, 0, 0, 0, 0, 0, 0, 0, 0, 0, 0, 0, 0, 0, 0, 0, 0, 0, 0, 0, 0, 0, 0, 0, 0, 0, 0, 0, 0, 0, 0, 0, 0, 0, 0, 0, 1, 1, 1, 1, 1, 1, 1, 1, 1, 1, 1, 1, 1, 1, 1, 1, 1, 1, 1, 1, 1, 1, 1, 1, 1, 1, 1, 1, 1, 1, 1, 1, 1, 1, 1, 1, 1, 1, 1, 1, 1, 1, 1, 1, 1, 1, 1, 1, 1, 1, 1, 1, 1, 1, 1]\n"
          ]
        }
      ]
    },
    {
      "cell_type": "code",
      "source": [
        "print(auc)"
      ],
      "metadata": {
        "colab": {
          "base_uri": "https://localhost:8080/"
        },
        "id": "AyNN3sI_AwbC",
        "outputId": "ea59cc74-0651-449f-be2d-41fad09d3437"
      },
      "id": "AyNN3sI_AwbC",
      "execution_count": 41,
      "outputs": [
        {
          "output_type": "stream",
          "name": "stdout",
          "text": [
            "0.9932432432432433\n"
          ]
        }
      ]
    },
    {
      "cell_type": "code",
      "source": [
        "top1_scores"
      ],
      "metadata": {
        "colab": {
          "base_uri": "https://localhost:8080/"
        },
        "id": "-jvYwZGdBKaJ",
        "outputId": "9ecc336b-3544-4890-bea0-7bd6ede73521"
      },
      "id": "-jvYwZGdBKaJ",
      "execution_count": 42,
      "outputs": [
        {
          "output_type": "execute_result",
          "data": {
            "text/plain": [
              "[1.0, 0.9833333492279053, 1.0, 1.0, 1.0]"
            ]
          },
          "metadata": {},
          "execution_count": 42
        }
      ]
    },
    {
      "cell_type": "code",
      "source": [
        "!zip -r runs.zip runs/"
      ],
      "metadata": {
        "colab": {
          "base_uri": "https://localhost:8080/"
        },
        "id": "mbynSYT1BlB2",
        "outputId": "44735807-793e-41cb-f583-5a4c7949dd1a"
      },
      "id": "mbynSYT1BlB2",
      "execution_count": 43,
      "outputs": [
        {
          "output_type": "stream",
          "name": "stdout",
          "text": [
            "  adding: runs/ (stored 0%)\n",
            "  adding: runs/kfold_wheat_leaf_rust/ (stored 0%)\n",
            "  adding: runs/kfold_wheat_leaf_rust/fold_2/ (stored 0%)\n",
            "  adding: runs/kfold_wheat_leaf_rust/fold_2/val_batch1_labels.jpg (deflated 42%)\n",
            "  adding: runs/kfold_wheat_leaf_rust/fold_2/results.png (deflated 9%)\n",
            "  adding: runs/kfold_wheat_leaf_rust/fold_2/confusion_matrix_normalized.png (deflated 34%)\n",
            "  adding: runs/kfold_wheat_leaf_rust/fold_2/val_batch2_labels.jpg (deflated 40%)\n",
            "  adding: runs/kfold_wheat_leaf_rust/fold_2/val_batch0_labels.jpg (deflated 41%)\n",
            "  adding: runs/kfold_wheat_leaf_rust/fold_2/val_batch1_pred.jpg (deflated 42%)\n",
            "  adding: runs/kfold_wheat_leaf_rust/fold_2/args.yaml (deflated 52%)\n",
            "  adding: runs/kfold_wheat_leaf_rust/fold_2/confusion_matrix.png (deflated 35%)\n",
            "  adding: runs/kfold_wheat_leaf_rust/fold_2/results.csv (deflated 64%)\n",
            "  adding: runs/kfold_wheat_leaf_rust/fold_2/weights/ (stored 0%)\n",
            "  adding: runs/kfold_wheat_leaf_rust/fold_2/weights/last.pt (deflated 9%)\n",
            "  adding: runs/kfold_wheat_leaf_rust/fold_2/weights/best.pt (deflated 9%)\n",
            "  adding: runs/kfold_wheat_leaf_rust/fold_2/val_batch0_pred.jpg (deflated 41%)\n",
            "  adding: runs/kfold_wheat_leaf_rust/fold_2/val_batch2_pred.jpg (deflated 40%)\n",
            "  adding: runs/kfold_wheat_leaf_rust/fold_4/ (stored 0%)\n",
            "  adding: runs/kfold_wheat_leaf_rust/fold_4/val_batch1_labels.jpg (deflated 43%)\n",
            "  adding: runs/kfold_wheat_leaf_rust/fold_4/results.png (deflated 10%)\n",
            "  adding: runs/kfold_wheat_leaf_rust/fold_4/confusion_matrix_normalized.png (deflated 36%)\n",
            "  adding: runs/kfold_wheat_leaf_rust/fold_4/val_batch2_labels.jpg (deflated 42%)\n",
            "  adding: runs/kfold_wheat_leaf_rust/fold_4/val_batch0_labels.jpg (deflated 44%)\n",
            "  adding: runs/kfold_wheat_leaf_rust/fold_4/val_batch1_pred.jpg (deflated 43%)\n",
            "  adding: runs/kfold_wheat_leaf_rust/fold_4/args.yaml (deflated 52%)\n",
            "  adding: runs/kfold_wheat_leaf_rust/fold_4/confusion_matrix.png (deflated 35%)\n",
            "  adding: runs/kfold_wheat_leaf_rust/fold_4/results.csv (deflated 63%)\n",
            "  adding: runs/kfold_wheat_leaf_rust/fold_4/weights/ (stored 0%)\n",
            "  adding: runs/kfold_wheat_leaf_rust/fold_4/weights/last.pt (deflated 9%)\n",
            "  adding: runs/kfold_wheat_leaf_rust/fold_4/weights/best.pt (deflated 9%)\n",
            "  adding: runs/kfold_wheat_leaf_rust/fold_4/val_batch0_pred.jpg (deflated 44%)\n",
            "  adding: runs/kfold_wheat_leaf_rust/fold_4/val_batch2_pred.jpg (deflated 42%)\n",
            "  adding: runs/kfold_wheat_leaf_rust/fold_1/ (stored 0%)\n",
            "  adding: runs/kfold_wheat_leaf_rust/fold_1/val_batch1_labels.jpg (deflated 40%)\n",
            "  adding: runs/kfold_wheat_leaf_rust/fold_1/results.png (deflated 8%)\n",
            "  adding: runs/kfold_wheat_leaf_rust/fold_1/confusion_matrix_normalized.png (deflated 36%)\n",
            "  adding: runs/kfold_wheat_leaf_rust/fold_1/val_batch2_labels.jpg (deflated 42%)\n",
            "  adding: runs/kfold_wheat_leaf_rust/fold_1/val_batch0_labels.jpg (deflated 42%)\n",
            "  adding: runs/kfold_wheat_leaf_rust/fold_1/val_batch1_pred.jpg (deflated 40%)\n",
            "  adding: runs/kfold_wheat_leaf_rust/fold_1/args.yaml (deflated 52%)\n",
            "  adding: runs/kfold_wheat_leaf_rust/fold_1/confusion_matrix.png (deflated 35%)\n",
            "  adding: runs/kfold_wheat_leaf_rust/fold_1/results.csv (deflated 63%)\n",
            "  adding: runs/kfold_wheat_leaf_rust/fold_1/weights/ (stored 0%)\n",
            "  adding: runs/kfold_wheat_leaf_rust/fold_1/weights/last.pt (deflated 9%)\n",
            "  adding: runs/kfold_wheat_leaf_rust/fold_1/weights/best.pt (deflated 9%)\n",
            "  adding: runs/kfold_wheat_leaf_rust/fold_1/val_batch0_pred.jpg (deflated 42%)\n",
            "  adding: runs/kfold_wheat_leaf_rust/fold_1/val_batch2_pred.jpg (deflated 42%)\n",
            "  adding: runs/kfold_wheat_leaf_rust/fold_3/ (stored 0%)\n",
            "  adding: runs/kfold_wheat_leaf_rust/fold_3/val_batch1_labels.jpg (deflated 42%)\n",
            "  adding: runs/kfold_wheat_leaf_rust/fold_3/results.png (deflated 12%)\n",
            "  adding: runs/kfold_wheat_leaf_rust/fold_3/confusion_matrix_normalized.png (deflated 36%)\n",
            "  adding: runs/kfold_wheat_leaf_rust/fold_3/val_batch2_labels.jpg (deflated 37%)\n",
            "  adding: runs/kfold_wheat_leaf_rust/fold_3/val_batch0_labels.jpg (deflated 41%)\n",
            "  adding: runs/kfold_wheat_leaf_rust/fold_3/val_batch1_pred.jpg (deflated 42%)\n",
            "  adding: runs/kfold_wheat_leaf_rust/fold_3/args.yaml (deflated 52%)\n",
            "  adding: runs/kfold_wheat_leaf_rust/fold_3/confusion_matrix.png (deflated 35%)\n",
            "  adding: runs/kfold_wheat_leaf_rust/fold_3/results.csv (deflated 63%)\n",
            "  adding: runs/kfold_wheat_leaf_rust/fold_3/weights/ (stored 0%)\n",
            "  adding: runs/kfold_wheat_leaf_rust/fold_3/weights/last.pt (deflated 9%)\n",
            "  adding: runs/kfold_wheat_leaf_rust/fold_3/weights/best.pt (deflated 9%)\n",
            "  adding: runs/kfold_wheat_leaf_rust/fold_3/val_batch0_pred.jpg (deflated 41%)\n",
            "  adding: runs/kfold_wheat_leaf_rust/fold_3/val_batch2_pred.jpg (deflated 37%)\n",
            "  adding: runs/kfold_wheat_leaf_rust/fold_5/ (stored 0%)\n",
            "  adding: runs/kfold_wheat_leaf_rust/fold_5/val_batch1_labels.jpg (deflated 40%)\n",
            "  adding: runs/kfold_wheat_leaf_rust/fold_5/results.png (deflated 10%)\n",
            "  adding: runs/kfold_wheat_leaf_rust/fold_5/confusion_matrix_normalized.png (deflated 36%)\n",
            "  adding: runs/kfold_wheat_leaf_rust/fold_5/val_batch2_labels.jpg (deflated 41%)\n",
            "  adding: runs/kfold_wheat_leaf_rust/fold_5/val_batch0_labels.jpg (deflated 41%)\n",
            "  adding: runs/kfold_wheat_leaf_rust/fold_5/val_batch1_pred.jpg (deflated 40%)\n",
            "  adding: runs/kfold_wheat_leaf_rust/fold_5/args.yaml (deflated 52%)\n",
            "  adding: runs/kfold_wheat_leaf_rust/fold_5/confusion_matrix.png (deflated 35%)\n",
            "  adding: runs/kfold_wheat_leaf_rust/fold_5/results.csv (deflated 63%)\n",
            "  adding: runs/kfold_wheat_leaf_rust/fold_5/weights/ (stored 0%)\n",
            "  adding: runs/kfold_wheat_leaf_rust/fold_5/weights/last.pt (deflated 9%)\n",
            "  adding: runs/kfold_wheat_leaf_rust/fold_5/weights/best.pt (deflated 9%)\n",
            "  adding: runs/kfold_wheat_leaf_rust/fold_5/val_batch0_pred.jpg (deflated 41%)\n",
            "  adding: runs/kfold_wheat_leaf_rust/fold_5/val_batch2_pred.jpg (deflated 41%)\n"
          ]
        }
      ]
    },
    {
      "cell_type": "code",
      "source": [
        "!zip -r wandb.zip wandb/"
      ],
      "metadata": {
        "id": "tcn_rrN7CQqa",
        "outputId": "c9ba591b-13c6-447e-f900-5305f13a294b",
        "colab": {
          "base_uri": "https://localhost:8080/"
        }
      },
      "id": "tcn_rrN7CQqa",
      "execution_count": 44,
      "outputs": [
        {
          "output_type": "stream",
          "name": "stdout",
          "text": [
            "  adding: wandb/ (stored 0%)\n",
            "  adding: wandb/debug.log (deflated 90%)\n",
            "  adding: wandb/run-20250612_215543-lef02cp8/ (stored 0%)\n",
            "  adding: wandb/run-20250612_215543-lef02cp8/tmp/ (stored 0%)\n",
            "  adding: wandb/run-20250612_215543-lef02cp8/tmp/code/ (stored 0%)\n",
            "  adding: wandb/run-20250612_215543-lef02cp8/logs/ (stored 0%)\n",
            "  adding: wandb/run-20250612_215543-lef02cp8/logs/debug.log (deflated 90%)\n",
            "  adding: wandb/run-20250612_215543-lef02cp8/logs/debug-core.log (deflated 58%)\n",
            "  adding: wandb/run-20250612_215543-lef02cp8/logs/debug-internal.log (deflated 87%)\n",
            "  adding: wandb/run-20250612_215543-lef02cp8/files/ (stored 0%)\n",
            "  adding: wandb/run-20250612_215543-lef02cp8/files/requirements.txt (deflated 54%)\n",
            "  adding: wandb/run-20250612_215543-lef02cp8/files/wandb-metadata.json (deflated 44%)\n",
            "  adding: wandb/run-20250612_215543-lef02cp8/files/output.log (deflated 92%)\n",
            "  adding: wandb/run-20250612_215543-lef02cp8/files/media/ (stored 0%)\n",
            "  adding: wandb/run-20250612_215543-lef02cp8/files/media/images/ (stored 0%)\n",
            "  adding: wandb/run-20250612_215543-lef02cp8/files/media/images/image_grid_0_cef0e14e6f3522ac00a8.jpg (deflated 26%)\n",
            "  adding: wandb/run-20250612_215543-lef02cp8/files/media/images/image_grid_0_07c563233ba01a9c7e3a.jpg (deflated 23%)\n",
            "  adding: wandb/run-20250612_215543-lef02cp8/files/media/images/image_grid_0_64b4b1a8c75723a002ac.jpg (deflated 25%)\n",
            "  adding: wandb/run-20250612_215543-lef02cp8/files/media/images/image_grid_0_81cad18a7ddbf3dc111d.jpg (deflated 26%)\n",
            "  adding: wandb/run-20250612_215543-lef02cp8/files/media/images/image_grid_0_a8a3d62940946ac0d5ec.jpg (deflated 18%)\n",
            "  adding: wandb/run-20250612_215543-lef02cp8/files/media/images/image_grid_0_b50fbb2ba698a3bbb1d2.jpg (deflated 30%)\n",
            "  adding: wandb/run-20250612_215543-lef02cp8/files/media/images/image_grid_0_c3221b0f23d315d24521.jpg (deflated 30%)\n",
            "  adding: wandb/run-20250612_215543-lef02cp8/files/media/images/image_grid_0_d38842e9783acf34284b.jpg (deflated 20%)\n",
            "  adding: wandb/run-20250612_215543-lef02cp8/files/media/images/image_grid_0_47f29b2ef54126faf1d9.jpg (deflated 18%)\n",
            "  adding: wandb/run-20250612_215543-lef02cp8/files/media/images/image_grid_0_1a94246f4b5fa10913e7.jpg (deflated 30%)\n",
            "  adding: wandb/run-20250612_215543-lef02cp8/files/media/images/image_grid_0_c32b16ba561ed5642b01.jpg (deflated 29%)\n",
            "  adding: wandb/run-20250612_215543-lef02cp8/files/media/images/image_grid_0_ea6a4a10bfccd148c5f7.jpg (deflated 33%)\n",
            "  adding: wandb/run-20250612_215543-lef02cp8/files/media/images/image_grid_0_972b6c3b6a3ae79b3263.jpg (deflated 18%)\n",
            "  adding: wandb/run-20250612_215543-lef02cp8/files/media/images/image_grid_0_1c30a58bdd42f9dc188a.jpg (deflated 14%)\n",
            "  adding: wandb/run-20250612_215543-lef02cp8/files/media/images/image_grid_0_73a52f080b526f27b528.jpg (deflated 15%)\n",
            "  adding: wandb/run-20250612_215543-lef02cp8/files/media/images/image_grid_0_a3f280d7d660682f58aa.jpg (deflated 21%)\n",
            "  adding: wandb/run-20250612_215543-lef02cp8/files/media/table/ (stored 0%)\n",
            "  adding: wandb/run-20250612_215543-lef02cp8/files/media/table/kfold_summary_1_efb197a0364fd1c73455.table.json (deflated 49%)\n",
            "  adding: wandb/run-20250612_215543-lef02cp8/run-lef02cp8.wandb (deflated 81%)\n",
            "  adding: wandb/latest-run/ (stored 0%)\n",
            "  adding: wandb/latest-run/tmp/ (stored 0%)\n",
            "  adding: wandb/latest-run/tmp/code/ (stored 0%)\n",
            "  adding: wandb/latest-run/logs/ (stored 0%)\n",
            "  adding: wandb/latest-run/logs/debug.log (deflated 90%)\n",
            "  adding: wandb/latest-run/logs/debug-core.log (deflated 58%)\n",
            "  adding: wandb/latest-run/logs/debug-internal.log (deflated 87%)\n",
            "  adding: wandb/latest-run/files/ (stored 0%)\n",
            "  adding: wandb/latest-run/files/requirements.txt (deflated 54%)\n",
            "  adding: wandb/latest-run/files/wandb-metadata.json (deflated 44%)\n",
            "  adding: wandb/latest-run/files/output.log (deflated 91%)\n",
            "  adding: wandb/latest-run/files/media/ (stored 0%)\n",
            "  adding: wandb/latest-run/files/media/images/ (stored 0%)\n",
            "  adding: wandb/latest-run/files/media/images/image_grid_0_cef0e14e6f3522ac00a8.jpg (deflated 26%)\n",
            "  adding: wandb/latest-run/files/media/images/image_grid_0_07c563233ba01a9c7e3a.jpg (deflated 23%)\n",
            "  adding: wandb/latest-run/files/media/images/image_grid_0_64b4b1a8c75723a002ac.jpg (deflated 25%)\n",
            "  adding: wandb/latest-run/files/media/images/image_grid_0_81cad18a7ddbf3dc111d.jpg (deflated 26%)\n",
            "  adding: wandb/latest-run/files/media/images/image_grid_0_a8a3d62940946ac0d5ec.jpg (deflated 18%)\n",
            "  adding: wandb/latest-run/files/media/images/image_grid_0_b50fbb2ba698a3bbb1d2.jpg (deflated 30%)\n",
            "  adding: wandb/latest-run/files/media/images/image_grid_0_c3221b0f23d315d24521.jpg (deflated 30%)\n",
            "  adding: wandb/latest-run/files/media/images/image_grid_0_d38842e9783acf34284b.jpg (deflated 20%)\n",
            "  adding: wandb/latest-run/files/media/images/image_grid_0_47f29b2ef54126faf1d9.jpg (deflated 18%)\n",
            "  adding: wandb/latest-run/files/media/images/image_grid_0_1a94246f4b5fa10913e7.jpg (deflated 30%)\n",
            "  adding: wandb/latest-run/files/media/images/image_grid_0_c32b16ba561ed5642b01.jpg (deflated 29%)\n",
            "  adding: wandb/latest-run/files/media/images/image_grid_0_ea6a4a10bfccd148c5f7.jpg (deflated 33%)\n",
            "  adding: wandb/latest-run/files/media/images/image_grid_0_972b6c3b6a3ae79b3263.jpg (deflated 18%)\n",
            "  adding: wandb/latest-run/files/media/images/image_grid_0_1c30a58bdd42f9dc188a.jpg (deflated 14%)\n",
            "  adding: wandb/latest-run/files/media/images/image_grid_0_73a52f080b526f27b528.jpg (deflated 15%)\n",
            "  adding: wandb/latest-run/files/media/images/image_grid_0_a3f280d7d660682f58aa.jpg (deflated 21%)\n",
            "  adding: wandb/latest-run/files/media/table/ (stored 0%)\n",
            "  adding: wandb/latest-run/files/media/table/kfold_summary_1_efb197a0364fd1c73455.table.json (deflated 49%)\n",
            "  adding: wandb/latest-run/run-lef02cp8.wandb (deflated 81%)\n",
            "  adding: wandb/debug-internal.log (deflated 87%)\n"
          ]
        }
      ]
    },
    {
      "cell_type": "code",
      "source": [
        "import matplotlib.pyplot as plt\n",
        "from PIL import Image\n",
        "\n",
        "# Prepare lists for storing info\n",
        "test_samples = []  # will store (image, gt, pred, confidence)\n",
        "\n",
        "# Run inference on first 16 samples\n",
        "for i, (img_path, gt) in enumerate(test_dataset.samples[:16]):\n",
        "    result = model.predict(img_path, imgsz=224, verbose=False)\n",
        "\n",
        "    pred = int(result[0].probs.top1)\n",
        "    conf = float(result[0].probs.top1conf)  # max probability = confidence\n",
        "\n",
        "    img = Image.open(img_path).convert(\"RGB\")\n",
        "    test_samples.append((img, gt, pred, conf))\n",
        "\n",
        "# Plotting the 4x4 grid\n",
        "fig, axes = plt.subplots(4, 4, figsize=(12, 12))\n",
        "fig.suptitle(\"YOLOv8 Predictions on Test Samples\", fontsize=16)\n",
        "\n",
        "for idx, (img, gt, pred, conf) in enumerate(test_samples):\n",
        "    ax = axes[idx // 4, idx % 4]\n",
        "    ax.imshow(img)\n",
        "    ax.axis(\"off\")\n",
        "    title = f\"Ground Truth: {CLASSES[gt]}\\nPrediction: {CLASSES[pred]}\\nConfidence: {conf:.2f}\"\n",
        "    ax.set_title(title, fontsize=10)\n",
        "\n",
        "plt.tight_layout(rect=[0, 0, 1, 0.96])\n",
        "plt.savefig(\"Sample Predictions.png\")\n",
        "plt.show()\n"
      ],
      "metadata": {
        "id": "BIcdfevZCUqF",
        "colab": {
          "base_uri": "https://localhost:8080/",
          "height": 1000
        },
        "outputId": "dde35a00-1546-4c27-c346-119b3e273625"
      },
      "id": "BIcdfevZCUqF",
      "execution_count": 47,
      "outputs": [
        {
          "output_type": "display_data",
          "data": {
            "text/plain": [
              "<Figure size 1200x1200 with 16 Axes>"
            ],
            "image/png": "[encoded data removed]"
          },
          "metadata": {}
        }
      ]
    },
    {
      "cell_type": "code",
      "source": [],
      "metadata": {
        "id": "J-oucrn2Ma7L"
      },
      "id": "J-oucrn2Ma7L",
      "execution_count": null,
      "outputs": []
    }
  ],
  "metadata": {
    "kernelspec": {
      "display_name": "Python 3",
      "language": "python",
      "name": "python3"
    },
    "language_info": {
      "codemirror_mode": {
        "name": "ipython",
        "version": 3
      },
      "file_extension": ".py",
      "mimetype": "text/x-python",
      "name": "python",
      "nbconvert_exporter": "python",
      "pygments_lexer": "ipython3",
      "version": "3.10.10"
    },
    "colab": {
      "provenance": [],
      "name": "leaf_rust_13_06",
      "gpuType": "A100"
    },
    "accelerator": "GPU"
  },
  "nbformat": 4,
  "nbformat_minor": 5
}